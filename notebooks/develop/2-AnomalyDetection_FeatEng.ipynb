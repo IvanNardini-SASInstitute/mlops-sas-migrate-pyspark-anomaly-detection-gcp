{
 "cells": [
  {
   "cell_type": "markdown",
   "metadata": {},
   "source": [
    "#  Anomaly detection in cellular networks"
   ]
  },
  {
   "cell_type": "markdown",
   "metadata": {},
   "source": [
    "## Introduction\n",
    "\n",
    "The purpose of this notebook is to solve a anomaly detection problem proposed as a competition in the Kaggle InClass platform.\n",
    "\n",
    "## Problem description\n",
    "\n",
    "### Context:\n",
    "\n",
    "Traditionally, the design of a cellular network focuses on the optimization of energy and resources that guarantees a smooth operation even during peak hours (i.e. periods with higher traffic load). \n",
    "However, this implies that cells are most of the time overprovisioned of radio resources. \n",
    "Next generation cellular networks ask for a dynamic management and configuration in order to adapt to the varying user demands in the most efficient way with regards to energy savings and utilization of frequency resources. \n",
    "If the network operator were capable of anticipating to those variations in the users’ traffic demands, a more efficient management of the scarce (and expensive) network resources would be possible.\n",
    "Current research in mobile networks looks upon Machine Learning (ML) techniques to help manage those resources. \n",
    "In this case, you will explore the possibilities of ML to detect abnormal behaviors in the utilization of the network that would motivate a change in the configuration of the base station.\n"
   ]
  },
  {
   "cell_type": "markdown",
   "metadata": {},
   "source": [
    "### Objective\n",
    "\n",
    "The objective of the network optimization team is to analyze traces of past activity, which will be used to train an ML system capable of classifying samples of current activity as:\n",
    " - 0 (normal): current activity corresponds to normal behavior of any working day and. Therefore, no re-configuration or redistribution of resources is needed.\n",
    " - 1 (unusual): current activity slightly differs from the behavior usually observed for that time of the day (e.g. due to a strike, demonstration, sports event, etc.), which should trigger a reconfiguration of the base station."
   ]
  },
  {
   "cell_type": "markdown",
   "metadata": {},
   "source": [
    "### Dataset\n",
    "\n",
    "The dataset has been obtained from a real LTE deployment. During two weeks, different metrics were gathered from a set of 10 base stations, each having a different number of cells, every 15 minutes. \n",
    "\n",
    "The dataset is provided in the form of a csv file, where each row corresponds to a sample obtained from one particular cell at a certain time. Each data example contains the following features:\n",
    "\n",
    " - Time : hour of the day (in the format hh:mm) when the sample was generated.\n",
    " - CellName1: text string used to uniquely identify the cell that generated the current sample. CellName is in the form xαLTE, where x identifies the base station, and α the cell within that base station (see the example in the right figure).\n",
    " - PRBUsageUL and PRBUsageDL: level of resource utilization in that cell measured as the portion of Physical Radio Blocks (PRB) that were in use (%) in the previous 15 minutes. Uplink (UL) and downlink (DL) are measured separately.\n",
    " - meanThrDL and meanThrUL: average carried traffic (in Mbps) during the past 15 minutes. Uplink (UL) and downlink (DL) are measured separately.\n",
    " - maxThrDL and maxThrUL: maximum carried traffic (in Mbps) measured in the last 15 minutes. Uplink (UL) and downlink (DL) are measured separately.\n",
    " - meanUEDL and meanUEUL: average number of user equipment (UE) devices that were simultaneously active during the last 15 minutes. Uplink (UL) and downlink (DL) are measured separately.\n",
    " - maxUEDL and maxUEUL: maximum number of user equipment (UE) devices that were simultaneously active during the last 15 minutes. Uplink (UL) and downlink (DL) are measured separately.\n",
    " - maxUE_UL+DL: maximum number of user equipment (UE) devices that were active simultaneously in the last 15 minutes, regardless of UL and DL.\n",
    " - Unusual: labels for supervised learning. A value of 0 determines that the sample corresponds to normal operation, a value of 1 identifies unusual behavior."
   ]
  },
  {
   "cell_type": "markdown",
   "metadata": {},
   "source": [
    "## Libraries"
   ]
  },
  {
   "cell_type": "code",
   "execution_count": 1,
   "metadata": {},
   "outputs": [],
   "source": [
    "import os\n",
    "import sys\n",
    "import random\n",
    "random.seed(888) #set seed for reproducibility\n",
    "from zipfile import ZipFile\n",
    "from IPython.display import Image\n",
    "\n",
    "\n",
    "#Analysis\n",
    "import pyspark\n",
    "try:\n",
    "    from pyspark import SparkContext, SparkConf\n",
    "    from pyspark.sql import SparkSession\n",
    "except ImportError as e:\n",
    "    print('WARN: Something wrong with pyspark library. Please check configuration settings!')\n",
    "    \n",
    "#Feature Engineering\n",
    "from pyspark.sql.functions import col, when, lit, array, explode, rand\n",
    "from pyspark.ml import Pipeline\n",
    "from pyspark.ml.linalg import Vectors\n",
    "from pyspark.ml.feature import StringIndexer, OneHotEncoder, VectorAssembler, MinMaxScaler\n",
    "#Model Training\n",
    "from pyspark.ml.classification import GBTClassifier\n",
    "from pyspark.ml.evaluation import BinaryClassificationEvaluator\n",
    "from pyspark.ml.tuning import CrossValidator, ParamGridBuilder\n",
    "    \n",
    "# Reloads functions each time so you can edit a script and not need to restart the kernel\n",
    "%load_ext autoreload\n",
    "%autoreload 2"
   ]
  },
  {
   "cell_type": "markdown",
   "metadata": {},
   "source": [
    "## Helpers"
   ]
  },
  {
   "cell_type": "code",
   "execution_count": 2,
   "metadata": {
    "ExecuteTime": {
     "end_time": "2019-02-22T23:24:55.390680Z",
     "start_time": "2019-02-22T23:24:55.344380Z"
    }
   },
   "outputs": [],
   "source": [
    "def get_root_dir(src:str, max_nest:int) -> str:\n",
    "    '''\n",
    "    Specify paths and appending directories with relevant python source code.\n",
    "    '''\n",
    "    root_dir = os.curdir\n",
    "    nest = 0\n",
    "    while src not in os.listdir(root_dir) and nest < max_nest:\n",
    "        root_dir = os.path.join(os.pardir, root_dir)     # Look up the directory structure for a src directory\n",
    "        nest += 1\n",
    "        \n",
    "    # If you don't find the src directory, the root directory is this directory\n",
    "    root_dir = os.path.abspath(root_dir) if nest < max_nest else os.path.abspath(\n",
    "    os.curdir)\n",
    "    \n",
    "    return root_dir\n",
    "\n",
    "def set_src(root_dir:str, src:str) -> str:\n",
    "    '''\n",
    "     Get the source directory and append path to access python packages/scripts within directory\n",
    "    '''\n",
    "    if src in os.listdir(root_dir):\n",
    "        src_dir = os.path.join(root_dir, src)\n",
    "        sys.path.append(src_dir)\n",
    "    return sys.path[-1]\n",
    "\n",
    "def set_folder(root_dir:str, folder:str) -> str:\n",
    "    '''\n",
    "    Set the folder path based on the folder name\n",
    "    '''\n",
    "    folder_path = os.path.join(\n",
    "        root_dir, folder) if folder in os.listdir(root_dir) else os.curdir\n",
    "    return folder_path\n",
    "\n",
    "def set_path(path:str, dirname:str) -> str:\n",
    "    '''\n",
    "    '''\n",
    "    return os.path.join(path, dirname)\n",
    "\n",
    "def unzip(inpath:str, outpath:str) -> None:\n",
    "    zf = ZipFile(inpath, 'r')\n",
    "    zf.extractall(outpath)\n",
    "    zf.close()\n",
    "    \n",
    "def metrics(dataframe, actual, predicted):\n",
    "    '''\n",
    "    Calculates evaluation metrics from predicted results\n",
    "    \n",
    "    Input:\n",
    "    ---------\n",
    "        dataframe: spark.sql.dataframe with the real and predicted values [object]\n",
    "        actual:  Name of column with observed target values [string]\n",
    "        predicted: Name of column with predicted values [string]\n",
    "        \n",
    "    \n",
    "    Output:\n",
    "    ---------\n",
    "        None\n",
    "    '''\n",
    "       \n",
    "    # Along each row are the actual values and down each column are the predicted\n",
    "    dataframe = dataframe.withColumn(actual, col(actual).cast('integer'))\n",
    "    dataframe = dataframe.withColumn(predicted, col(predicted).cast('integer'))\n",
    "    cm = dataframe.crosstab(actual, predicted)\n",
    "    cm = cm.sort(cm.columns[0], ascending = True)\n",
    "    \n",
    "    # Adds missing column in case just one class was predicted\n",
    "    if not '0' in cm.columns:\n",
    "        cm = cm.withColumn('0', lit(0))\n",
    "    if not '1' in cm.columns:\n",
    "        cm = cm.withColumn('1', lit(0))\n",
    "    \n",
    "    # Subsets values from confusion matrix\n",
    "    zero = cm.filter(cm[cm.columns[0]] == 0.0)\n",
    "    first_0 = zero.take(1)\n",
    "    \n",
    "    one = cm.filter(cm[cm.columns[0]] == 1.0)\n",
    "    first_1 = one.take(1)\n",
    "    \n",
    "    tn = first_0[0][1]\n",
    "    fp = first_0[0][2]\n",
    "    fn = first_1[0][1]\n",
    "    tp = first_1[0][2]\n",
    "    \n",
    "    # Calculate metrics from values in the confussion matrix\n",
    "    if (tp == 0):\n",
    "        acc = float((tp + tn) / (tp + tn + fp + fn))\n",
    "        sen = 0\n",
    "        spe = float((tn) / (tn + fp))\n",
    "        prec = 0\n",
    "        rec = 0\n",
    "        f1 = 0\n",
    "    elif (tn == 0):\n",
    "        acc = float((tp + tn) / (tp + tn + fp + fn))\n",
    "        sen = float((tp) / (tp + fn))\n",
    "        spe = 0\n",
    "        prec = float((tp) / (tp + fp))\n",
    "        rec = float((tp) / (tp + fn))\n",
    "        f1 = 2 * float((prec * rec) / (prec + rec))\n",
    "    else:\n",
    "        acc = float((tp + tn) / (tp + tn + fp + fn))\n",
    "        sen = float((tp) / (tp + fn))\n",
    "        spe = float((tn) / (tn + fp))\n",
    "        prec = float((tp) / (tp + fp))\n",
    "        rec = float((tp) / (tp + fn))\n",
    "        f1 = 2 * float((prec * rec) / (prec + rec))\n",
    "\n",
    "    # Print results\n",
    "    print('Confusion Matrix and Statistics: \\n')\n",
    "    cm.show()\n",
    "    \n",
    "    print('True Positives:', tp)\n",
    "    print('True Negatives:', tn)\n",
    "    print('False Positives:', fp)\n",
    "    print('False Negatives:', fn)\n",
    "    print('Total:', dataframe.count(), '\\n')\n",
    "    \n",
    "    print('Accuracy: {0:.2f}'.format(acc))\n",
    "    print('Sensitivity: {0:.2f}'.format(sen))\n",
    "    print('Specificity: {0:.2f}'.format(spe))\n",
    "    print('Precision: {0:.2f}'.format(prec))\n",
    "    print('Recall: {0:.2f}'.format(rec))\n",
    "    print('F1-score: {0:.2f}'.format(f1))"
   ]
  },
  {
   "cell_type": "markdown",
   "metadata": {},
   "source": [
    "## Setup"
   ]
  },
  {
   "cell_type": "code",
   "execution_count": 3,
   "metadata": {},
   "outputs": [],
   "source": [
    "root_dir = get_root_dir('src', 5)\n",
    "src_dir = set_src(root_dir, 'src')\n",
    "data_dir = set_folder(root_dir, 'data')\n",
    "raw_data_dir = set_path(data_dir, 'raw')\n",
    "interim_data_dir = set_path(data_dir, 'interim')\n",
    "processed_data_dir = set_path(data_dir, 'processed')\n",
    "figures_dir = set_folder(root_dir, 'figures')\n",
    "features_dir = set_folder(root_dir, 'features')\n",
    "models_dir = set_folder(root_dir, 'models')"
   ]
  },
  {
   "cell_type": "markdown",
   "metadata": {},
   "source": [
    "# 1. Data"
   ]
  },
  {
   "cell_type": "markdown",
   "metadata": {},
   "source": [
    "## Initiate Spark session"
   ]
  },
  {
   "cell_type": "code",
   "execution_count": 4,
   "metadata": {},
   "outputs": [],
   "source": [
    "#If not exists create a spark session named Anomaly Detection where the master node is local\n",
    "spark = SparkSession.builder \\\n",
    "    .master(\"local[4]\") \\\n",
    "    .appName(\"Anomaly Detection\") \\\n",
    "    .getOrCreate()"
   ]
  },
  {
   "cell_type": "code",
   "execution_count": 5,
   "metadata": {},
   "outputs": [
    {
     "data": {
      "text/html": [
       "\n",
       "            <div>\n",
       "                <p><b>SparkSession - in-memory</b></p>\n",
       "                \n",
       "        <div>\n",
       "            <p><b>SparkContext</b></p>\n",
       "\n",
       "            <p><a href=\"http://cdbd56429090:4041\">Spark UI</a></p>\n",
       "\n",
       "            <dl>\n",
       "              <dt>Version</dt>\n",
       "                <dd><code>v3.0.1</code></dd>\n",
       "              <dt>Master</dt>\n",
       "                <dd><code>local[4]</code></dd>\n",
       "              <dt>AppName</dt>\n",
       "                <dd><code>Anomaly Detection</code></dd>\n",
       "            </dl>\n",
       "        </div>\n",
       "        \n",
       "            </div>\n",
       "        "
      ],
      "text/plain": [
       "<pyspark.sql.session.SparkSession at 0x7f2fb14c07c0>"
      ]
     },
     "execution_count": 5,
     "metadata": {},
     "output_type": "execute_result"
    }
   ],
   "source": [
    "spark.getActiveSession()"
   ]
  },
  {
   "cell_type": "markdown",
   "metadata": {},
   "source": [
    "## Load"
   ]
  },
  {
   "cell_type": "markdown",
   "metadata": {},
   "source": [
    "### Set path"
   ]
  },
  {
   "cell_type": "code",
   "execution_count": 6,
   "metadata": {},
   "outputs": [],
   "source": [
    "train_path = set_path(processed_data_dir, 'ML-MATT-CompetitionQT1920_train_processed.csv')\n",
    "test_path = set_path(processed_data_dir, 'ML-MATT-CompetitionQT1920_test_processed.csv')"
   ]
  },
  {
   "cell_type": "markdown",
   "metadata": {},
   "source": [
    "### Load data"
   ]
  },
  {
   "cell_type": "code",
   "execution_count": 7,
   "metadata": {},
   "outputs": [],
   "source": [
    "train_df = spark.read.option(\"header\", True) \\\n",
    "                .option(\"delimiter\", ',') \\\n",
    "                .option(\"inferSchema\" , \"true\") \\\n",
    "                .csv(train_path)\n",
    "\n",
    "test_df = spark.read.option(\"header\", True) \\\n",
    "                .option(\"delimiter\", ',') \\\n",
    "                .option(\"inferSchema\" , \"true\") \\\n",
    "                .csv(test_path)"
   ]
  },
  {
   "cell_type": "code",
   "execution_count": 8,
   "metadata": {},
   "outputs": [
    {
     "name": "stdout",
     "output_type": "stream",
     "text": [
      "root\n",
      " |-- CellName: string (nullable = true)\n",
      " |-- hour: integer (nullable = true)\n",
      " |-- minutes: integer (nullable = true)\n",
      " |-- PRBUsageUL: double (nullable = true)\n",
      " |-- PRBUsageDL: double (nullable = true)\n",
      " |-- meanThr_DL: double (nullable = true)\n",
      " |-- meanThr_UL: double (nullable = true)\n",
      " |-- maxThr_DL: double (nullable = true)\n",
      " |-- maxThr_UL: double (nullable = true)\n",
      " |-- meanUE_DL: double (nullable = true)\n",
      " |-- meanUE_UL: double (nullable = true)\n",
      " |-- maxUE_DL: double (nullable = true)\n",
      " |-- maxUE_UL: double (nullable = true)\n",
      " |-- Unusual: integer (nullable = true)\n",
      "\n"
     ]
    }
   ],
   "source": [
    "train_df.printSchema()"
   ]
  },
  {
   "cell_type": "code",
   "execution_count": 9,
   "metadata": {},
   "outputs": [
    {
     "name": "stdout",
     "output_type": "stream",
     "text": [
      "+--------+----+-------+----------+----------+----------+----------+---------+---------+---------+---------+--------+--------+-------+\n",
      "|CellName|hour|minutes|PRBUsageUL|PRBUsageDL|meanThr_DL|meanThr_UL|maxThr_DL|maxThr_UL|meanUE_DL|meanUE_UL|maxUE_DL|maxUE_UL|Unusual|\n",
      "+--------+----+-------+----------+----------+----------+----------+---------+---------+---------+---------+--------+--------+-------+\n",
      "|   3BLTE|  10|     45|    11.642|     1.393|      0.37|     0.041|   15.655|    0.644|    1.114|    1.025|     4.0|     3.0|      1|\n",
      "|   1BLTE|   9|     45|    21.791|     1.891|     0.537|     0.268|   10.273|    1.154|    1.353|    1.085|     6.0|     4.0|      1|\n",
      "|   9BLTE|   7|     45|     0.498|     0.398|     0.015|      0.01|    0.262|    0.164|    0.995|    0.995|     1.0|     1.0|      1|\n",
      "|   4ALTE|   2|     45|     1.891|     1.095|      0.94|     0.024|   60.715|    0.825|    1.035|    0.995|     2.0|     2.0|      1|\n",
      "|  10BLTE|   3|     30|     0.303|     0.404|     0.016|     0.013|    0.348|    0.168|    1.011|    1.011|     2.0|     1.0|      0|\n",
      "+--------+----+-------+----------+----------+----------+----------+---------+---------+---------+---------+--------+--------+-------+\n",
      "only showing top 5 rows\n",
      "\n"
     ]
    }
   ],
   "source": [
    "train_df.show(5)"
   ]
  },
  {
   "cell_type": "code",
   "execution_count": 10,
   "metadata": {},
   "outputs": [],
   "source": [
    "# .withColumn(\"minutes_cat\", col(\"minutes\").cast('string')) \\\n",
    "train_df_fmt = train_df.withColumn(\"hour_cat\", col(\"hour\").cast('string')) \\\n",
    "                       .select('CellName', 'hour_cat', 'PRBUsageUL', 'PRBUsageDL', \n",
    "                           'meanThr_DL', 'meanThr_UL', 'maxThr_DL', 'maxThr_UL', \n",
    "                           'meanUE_DL', 'meanUE_UL', 'maxUE_DL', 'maxUE_UL', 'Unusual')\n",
    "\n",
    "\n",
    "test_df_fmt = test_df.withColumn(\"hour_cat\", col(\"hour\").cast('string')) \\\n",
    "                       .select('CellName', 'hour_cat', 'PRBUsageUL', 'PRBUsageDL', \n",
    "                           'meanThr_DL', 'meanThr_UL', 'maxThr_DL', 'maxThr_UL', \n",
    "                           'meanUE_DL', 'meanUE_UL', 'maxUE_DL', 'maxUE_UL')"
   ]
  },
  {
   "cell_type": "markdown",
   "metadata": {},
   "source": [
    "# 2. Feature Engineering\n",
    "\n",
    "Because we have:\n",
    "\n",
    " - unbalanced sample\n",
    " - different scales\n",
    "\n",
    "and we want to understand the role of time.\n",
    " \n",
    "we need to implement some transformations:\n",
    "\n",
    " - balance the train sample with weights\n",
    " - standardize the data\n",
    " - onehot encoding (hour)"
   ]
  },
  {
   "cell_type": "markdown",
   "metadata": {},
   "source": [
    "## Balancing Target\n",
    "\n",
    "There are different methods to balance data:\n",
    "  1. Undersampling (the majority class)\n",
    "  2. Oversampling (the minority class) \n",
    "  3. Class weighting (assign the inverse ratio of each class as weights)\n",
    "\n",
    "The sample is large and we don't want to alterate the context. Then I choose Undersampling!\n",
    "\n",
    "**REMEMBER: DON'T BALANCE THE TEST SAMPLE**"
   ]
  },
  {
   "cell_type": "code",
   "execution_count": 11,
   "metadata": {},
   "outputs": [
    {
     "name": "stdout",
     "output_type": "stream",
     "text": [
      "The ratio is 2\n"
     ]
    }
   ],
   "source": [
    "df_major_label = train_df_fmt.filter(col(\"Unusual\") == 0)\n",
    "df_minor_label= train_df_fmt.filter(col(\"Unusual\") == 1)\n",
    "ratio = int(df_major_label.count()/df_minor_label.count())\n",
    "print(\"The ratio is {}\".format(ratio))"
   ]
  },
  {
   "cell_type": "code",
   "execution_count": 12,
   "metadata": {},
   "outputs": [],
   "source": [
    "sample = df_major_label.sample(False, 1/ratio)"
   ]
  },
  {
   "cell_type": "code",
   "execution_count": 13,
   "metadata": {},
   "outputs": [
    {
     "name": "stdout",
     "output_type": "stream",
     "text": [
      "+--------+--------+----------+----------+----------+----------+---------+---------+---------+---------+--------+--------+-------+\n",
      "|CellName|hour_cat|PRBUsageUL|PRBUsageDL|meanThr_DL|meanThr_UL|maxThr_DL|maxThr_UL|meanUE_DL|meanUE_UL|maxUE_DL|maxUE_UL|Unusual|\n",
      "+--------+--------+----------+----------+----------+----------+---------+---------+---------+---------+--------+--------+-------+\n",
      "|   9ALTE|      13|    15.966|     1.819|     0.415|     0.071|   10.116|    0.706|    1.364|    1.314|     6.0|     5.0|      0|\n",
      "|   5CLTE|      13|    24.858|     4.446|     1.448|     0.145|   27.558|    2.511|    1.617|    1.213|     7.0|     5.0|      0|\n",
      "|   6ULTE|       5|     0.202|     1.112|     0.217|     0.013|    4.345|    0.103|    1.021|     0.01|     3.0|     2.0|      0|\n",
      "|   3CLTE|      21|     7.175|     3.638|     1.705|     0.067|   43.851|    1.032|    1.142|    1.041|     4.0|     3.0|      0|\n",
      "|   5BLTE|       2|     9.802|     2.223|     0.832|     0.023|   33.075|    0.447|    1.081|    1.031|     4.0|     3.0|      0|\n",
      "|   9BLTE|      22|     3.133|     0.808|     0.367|     0.052|   11.976|    5.685|    1.051|    1.041|     3.0|     3.0|      0|\n",
      "|   6BLTE|       6|     5.255|     0.606|     0.124|     0.015|    5.714|    0.324|    1.031|     0.01|     3.0|     2.0|      0|\n",
      "|   6CLTE|      12|     7.781|     1.011|     0.251|     0.028|   12.614|    0.431|    1.091|     0.01|     4.0|     2.0|      0|\n",
      "|   3BLTE|      11|    22.332|     4.143|     1.179|     0.084|    9.363|    0.937|    1.394|    1.233|     6.0|     5.0|      0|\n",
      "|   6ULTE|      15|     2.627|     5.154|     0.688|     0.098|    11.71|    2.923|    1.425|     0.01|     6.0|     4.0|      0|\n",
      "+--------+--------+----------+----------+----------+----------+---------+---------+---------+---------+--------+--------+-------+\n",
      "only showing top 10 rows\n",
      "\n"
     ]
    }
   ],
   "source": [
    "sample.show(10)"
   ]
  },
  {
   "cell_type": "code",
   "execution_count": 14,
   "metadata": {},
   "outputs": [],
   "source": [
    "train_df_balanced = sample.unionAll(df_minor_label).orderBy(rand())"
   ]
  },
  {
   "cell_type": "code",
   "execution_count": 15,
   "metadata": {},
   "outputs": [
    {
     "name": "stdout",
     "output_type": "stream",
     "text": [
      "The ratio now is 1\n"
     ]
    }
   ],
   "source": [
    "ratio_balanced = train_df_balanced.where('Unusual == 0').count()/train_df_balanced.where('Unusual == 1').count()\n",
    "print(f'The ratio now is {int(ratio_balanced)}')"
   ]
  },
  {
   "cell_type": "markdown",
   "metadata": {},
   "source": [
    "## OneHot encoding\n",
    "\n",
    "We need to convert categorical values to numerical values (StringIndexer), encode columns (OneHotEncoder) using a vector assembler"
   ]
  },
  {
   "cell_type": "markdown",
   "metadata": {},
   "source": [
    "### Train set"
   ]
  },
  {
   "cell_type": "code",
   "execution_count": 16,
   "metadata": {},
   "outputs": [
    {
     "name": "stdout",
     "output_type": "stream",
     "text": [
      "+--------+--------+----------+----------+----------+----------+---------+---------+---------+---------+--------+--------+-------+----------+\n",
      "|CellName|hour_cat|PRBUsageUL|PRBUsageDL|meanThr_DL|meanThr_UL|maxThr_DL|maxThr_UL|meanUE_DL|meanUE_UL|maxUE_DL|maxUE_UL|Unusual|hour_index|\n",
      "+--------+--------+----------+----------+----------+----------+---------+---------+---------+---------+--------+--------+-------+----------+\n",
      "|   6ULTE|       6|     0.202|     1.011|     0.184|     0.018|     2.86|    0.142|    1.041|     0.01|     3.0|     2.0|      0|      18.0|\n",
      "|   1CLTE|      11|     21.89|     3.085|      0.68|     0.096|   13.484|    1.163|    1.303|    1.154|     5.0|     5.0|      1|       7.0|\n",
      "|   6VLTE|       2|     1.095|      2.09|     0.252|     0.029|   12.338|    0.573|    1.095|     0.01|     3.0|     3.0|      1|      13.0|\n",
      "|   6ULTE|       8|     0.498|     1.194|      0.25|     0.027|   17.531|    0.803|    1.075|     0.01|     3.0|     2.0|      1|       2.0|\n",
      "|   4BLTE|      18|    22.433|     4.143|     1.316|     0.119|   33.481|    1.337|    1.506|    1.132|     7.0|     5.0|      0|      19.0|\n",
      "+--------+--------+----------+----------+----------+----------+---------+---------+---------+---------+--------+--------+-------+----------+\n",
      "only showing top 5 rows\n",
      "\n"
     ]
    }
   ],
   "source": [
    "indexer = StringIndexer(inputCol=\"hour_cat\", outputCol=\"hour_index\")\n",
    "indexer_fit = indexer.fit(train_df_balanced)\n",
    "train_df_indexed = indexer_fit.transform(train_df_balanced)\n",
    "train_df_indexed.show(5) #If the input column is numeric, we cast it to string and index the string values. The indices are in [0, numLabels). By default, this is ordered by label frequencies so the most frequent label gets index 0."
   ]
  },
  {
   "cell_type": "code",
   "execution_count": 17,
   "metadata": {},
   "outputs": [
    {
     "name": "stdout",
     "output_type": "stream",
     "text": [
      "+--------+----------+----------+----------+----------+---------+---------+---------+---------+--------+--------+---------------+-------+\n",
      "|CellName|PRBUsageUL|PRBUsageDL|meanThr_DL|meanThr_UL|maxThr_DL|maxThr_UL|meanUE_DL|meanUE_UL|maxUE_DL|maxUE_UL|       hour_vec|Unusual|\n",
      "+--------+----------+----------+----------+----------+---------+---------+---------+---------+--------+--------+---------------+-------+\n",
      "|   6ULTE|     0.202|     1.011|     0.184|     0.018|     2.86|    0.142|    1.041|     0.01|     3.0|     2.0|(24,[18],[1.0])|      0|\n",
      "|   1CLTE|     21.89|     3.085|      0.68|     0.096|   13.484|    1.163|    1.303|    1.154|     5.0|     5.0| (24,[7],[1.0])|      1|\n",
      "|   6VLTE|     1.095|      2.09|     0.252|     0.029|   12.338|    0.573|    1.095|     0.01|     3.0|     3.0|(24,[13],[1.0])|      1|\n",
      "|   6ULTE|     0.498|     1.194|      0.25|     0.027|   17.531|    0.803|    1.075|     0.01|     3.0|     2.0| (24,[2],[1.0])|      1|\n",
      "|   4BLTE|    22.433|     4.143|     1.316|     0.119|   33.481|    1.337|    1.506|    1.132|     7.0|     5.0|(24,[19],[1.0])|      0|\n",
      "+--------+----------+----------+----------+----------+---------+---------+---------+---------+--------+--------+---------------+-------+\n",
      "only showing top 5 rows\n",
      "\n"
     ]
    }
   ],
   "source": [
    "encoder = OneHotEncoder(dropLast=False, inputCol=\"hour_index\", outputCol=\"hour_vec\")\n",
    "encoder_fit = encoder.fit(train_df_indexed)\n",
    "train_df_encoded = encoder_fit.transform(train_df_indexed)\n",
    "train_df_encoded = train_df_encoded.select('CellName', 'PRBUsageUL', 'PRBUsageDL', \n",
    "                           'meanThr_DL', 'meanThr_UL', 'maxThr_DL', 'maxThr_UL', \n",
    "                           'meanUE_DL', 'meanUE_UL', 'maxUE_DL', 'maxUE_UL', 'hour_vec', 'Unusual')\n",
    "train_df_encoded.show(5)"
   ]
  },
  {
   "cell_type": "markdown",
   "metadata": {},
   "source": [
    "### Test set"
   ]
  },
  {
   "cell_type": "code",
   "execution_count": 18,
   "metadata": {},
   "outputs": [
    {
     "name": "stdout",
     "output_type": "stream",
     "text": [
      "+--------+--------+----------+----------+----------+----------+---------+---------+---------+---------+--------+--------+----------+\n",
      "|CellName|hour_cat|PRBUsageUL|PRBUsageDL|meanThr_DL|meanThr_UL|maxThr_DL|maxThr_UL|meanUE_DL|meanUE_UL|maxUE_DL|maxUE_UL|hour_index|\n",
      "+--------+--------+----------+----------+----------+----------+---------+---------+---------+---------+--------+--------+----------+\n",
      "|   6ALTE|       3|     3.781|     1.493|     0.575|     0.042|   22.659|    0.743|    0.985|     0.01|     3.0|     2.0|       0.0|\n",
      "|   6ULTE|      20|     2.021|     3.335|     0.569|     0.075|   29.265|    1.049|    1.314|     0.01|     6.0|     3.0|      12.0|\n",
      "|   2ALTE|      11|     0.505|     0.404|     0.014|      0.01|    0.227|    0.097|    1.011|     0.01|     2.0|     1.0|       7.0|\n",
      "|   3CLTE|       6|     1.011|     0.505|     0.238|     0.021|   20.962|    0.609|    1.011|    1.011|     2.0|     1.0|      18.0|\n",
      "|   6CLTE|      15|     3.881|     0.498|     0.076|     0.041|    3.936|    1.768|    1.025|     0.01|     3.0|     2.0|      20.0|\n",
      "+--------+--------+----------+----------+----------+----------+---------+---------+---------+---------+--------+--------+----------+\n",
      "only showing top 5 rows\n",
      "\n",
      "+--------+----------+----------+----------+----------+---------+---------+---------+---------+--------+--------+---------------+\n",
      "|CellName|PRBUsageUL|PRBUsageDL|meanThr_DL|meanThr_UL|maxThr_DL|maxThr_UL|meanUE_DL|meanUE_UL|maxUE_DL|maxUE_UL|       hour_vec|\n",
      "+--------+----------+----------+----------+----------+---------+---------+---------+---------+--------+--------+---------------+\n",
      "|   6ALTE|     3.781|     1.493|     0.575|     0.042|   22.659|    0.743|    0.985|     0.01|     3.0|     2.0| (24,[0],[1.0])|\n",
      "|   6ULTE|     2.021|     3.335|     0.569|     0.075|   29.265|    1.049|    1.314|     0.01|     6.0|     3.0|(24,[12],[1.0])|\n",
      "|   2ALTE|     0.505|     0.404|     0.014|      0.01|    0.227|    0.097|    1.011|     0.01|     2.0|     1.0| (24,[7],[1.0])|\n",
      "|   3CLTE|     1.011|     0.505|     0.238|     0.021|   20.962|    0.609|    1.011|    1.011|     2.0|     1.0|(24,[18],[1.0])|\n",
      "|   6CLTE|     3.881|     0.498|     0.076|     0.041|    3.936|    1.768|    1.025|     0.01|     3.0|     2.0|(24,[20],[1.0])|\n",
      "+--------+----------+----------+----------+----------+---------+---------+---------+---------+--------+--------+---------------+\n",
      "only showing top 5 rows\n",
      "\n"
     ]
    }
   ],
   "source": [
    "test_df_indexed = indexer_fit.transform(test_df_fmt)\n",
    "test_df_indexed.show(5)\n",
    "test_df_encoded = encoder_fit.transform(test_df_indexed)\n",
    "test_df_encoded = test_df_encoded.select('CellName', 'PRBUsageUL', 'PRBUsageDL', \n",
    "                           'meanThr_DL', 'meanThr_UL', 'maxThr_DL', 'maxThr_UL', \n",
    "                           'meanUE_DL', 'meanUE_UL', 'maxUE_DL', 'maxUE_UL', 'hour_vec')\n",
    "\n",
    "test_df_encoded.show(5)"
   ]
  },
  {
   "cell_type": "markdown",
   "metadata": {},
   "source": [
    "## Standardize data"
   ]
  },
  {
   "cell_type": "markdown",
   "metadata": {},
   "source": [
    "### Train set"
   ]
  },
  {
   "cell_type": "code",
   "execution_count": 19,
   "metadata": {},
   "outputs": [],
   "source": [
    "scalable_vars = ['PRBUsageUL', 'PRBUsageDL', 'meanThr_DL', \n",
    "                 'meanThr_UL', 'maxThr_DL', 'maxThr_UL', \n",
    "                 'meanUE_DL', 'meanUE_UL', 'maxUE_DL','maxUE_UL'] + ['hour_vec']\n",
    "\n",
    "vec_assembler = VectorAssembler(inputCols=scalable_vars, outputCol='vars_vectorized')\n",
    "df_train_assembled = vec_assembler.transform(train_df_encoded)\n",
    "scaler = MinMaxScaler(inputCol=vec_assembler.getOutputCol(), outputCol=\"features\")\n",
    "scaler_fit = scaler.fit(df_train_assembled)\n",
    "scaled_df_train = scaler_fit.transform(df_train_assembled)\n",
    "scaled_df_train = scaled_df_train.select('CellName', 'PRBUsageUL', 'PRBUsageDL', \n",
    "                           'meanThr_DL', 'meanThr_UL', 'maxThr_DL', 'maxThr_UL', \n",
    "                           'meanUE_DL', 'meanUE_UL', 'maxUE_DL', 'maxUE_UL', 'features', 'Unusual')"
   ]
  },
  {
   "cell_type": "code",
   "execution_count": 20,
   "metadata": {},
   "outputs": [
    {
     "name": "stdout",
     "output_type": "stream",
     "text": [
      "+--------+----------+----------+----------+----------+---------+---------+---------+---------+--------+--------+--------------------+-------+\n",
      "|CellName|PRBUsageUL|PRBUsageDL|meanThr_DL|meanThr_UL|maxThr_DL|maxThr_UL|meanUE_DL|meanUE_UL|maxUE_DL|maxUE_UL|            features|Unusual|\n",
      "+--------+----------+----------+----------+----------+---------+---------+---------+---------+--------+--------+--------------------+-------+\n",
      "|   6ULTE|     0.202|     1.011|     0.184|     0.018|     2.86|    0.142|    1.041|     0.01|     3.0|     2.0|(34,[0,1,2,3,4,5,...|      0|\n",
      "|   1CLTE|     21.89|     3.085|      0.68|     0.096|   13.484|    1.163|    1.303|    1.154|     5.0|     5.0|(34,[0,1,2,3,4,5,...|      1|\n",
      "|   6VLTE|     1.095|      2.09|     0.252|     0.029|   12.338|    0.573|    1.095|     0.01|     3.0|     3.0|(34,[0,1,2,3,4,5,...|      1|\n",
      "|   6ULTE|     0.498|     1.194|      0.25|     0.027|   17.531|    0.803|    1.075|     0.01|     3.0|     2.0|(34,[0,1,2,3,4,5,...|      1|\n",
      "|   4BLTE|    22.433|     4.143|     1.316|     0.119|   33.481|    1.337|    1.506|    1.132|     7.0|     5.0|(34,[0,1,2,3,4,5,...|      0|\n",
      "|   9ALTE|     0.909|     0.404|     0.056|      0.01|      1.4|    0.108|    1.011|    1.011|     2.0|     2.0|(34,[0,1,2,3,4,5,...|      0|\n",
      "|   1ALTE|    12.139|     4.677|     1.112|     0.052|   21.918|    0.633|    1.174|    1.065|     5.0|     4.0|(34,[0,1,2,3,4,5,...|      1|\n",
      "|   4ALTE|     0.505|     0.404|     0.021|     0.012|    0.538|    0.199|    1.021|    1.011|     2.0|     1.0|(34,[0,1,2,3,4,5,...|      0|\n",
      "|   5ALTE|      1.92|     0.505|     0.223|     0.015|    8.271|    0.235|    1.021|    1.011|     2.0|     2.0|(34,[0,1,2,3,4,5,...|      0|\n",
      "|   8BLTE|      7.96|     1.294|     0.275|     0.038|    7.759|    0.421|    1.114|    1.055|     4.0|     3.0|(34,[0,1,2,3,4,5,...|      1|\n",
      "+--------+----------+----------+----------+----------+---------+---------+---------+---------+--------+--------+--------------------+-------+\n",
      "only showing top 10 rows\n",
      "\n"
     ]
    }
   ],
   "source": [
    "scaled_df_train.show(10)"
   ]
  },
  {
   "cell_type": "markdown",
   "metadata": {},
   "source": [
    "### Test set"
   ]
  },
  {
   "cell_type": "code",
   "execution_count": 21,
   "metadata": {},
   "outputs": [
    {
     "name": "stdout",
     "output_type": "stream",
     "text": [
      "+--------+----------+----------+----------+----------+---------+---------+---------+---------+--------+--------+--------------------+\n",
      "|CellName|PRBUsageUL|PRBUsageDL|meanThr_DL|meanThr_UL|maxThr_DL|maxThr_UL|meanUE_DL|meanUE_UL|maxUE_DL|maxUE_UL|            features|\n",
      "+--------+----------+----------+----------+----------+---------+---------+---------+---------+--------+--------+--------------------+\n",
      "|   6ALTE|     3.781|     1.493|     0.575|     0.042|   22.659|    0.743|    0.985|     0.01|     3.0|     2.0|(34,[0,1,2,3,4,5,...|\n",
      "|   6ULTE|     2.021|     3.335|     0.569|     0.075|   29.265|    1.049|    1.314|     0.01|     6.0|     3.0|(34,[0,1,2,3,4,5,...|\n",
      "|   2ALTE|     0.505|     0.404|     0.014|      0.01|    0.227|    0.097|    1.011|     0.01|     2.0|     1.0|(34,[0,1,2,3,4,5,...|\n",
      "|   3CLTE|     1.011|     0.505|     0.238|     0.021|   20.962|    0.609|    1.011|    1.011|     2.0|     1.0|(34,[0,1,2,3,4,5,...|\n",
      "|   6CLTE|     3.881|     0.498|     0.076|     0.041|    3.936|    1.768|    1.025|     0.01|     3.0|     2.0|(34,[0,1,2,3,4,5,...|\n",
      "+--------+----------+----------+----------+----------+---------+---------+---------+---------+--------+--------+--------------------+\n",
      "only showing top 5 rows\n",
      "\n"
     ]
    }
   ],
   "source": [
    "df_test_assembled = vec_assembler.transform(test_df_encoded)\n",
    "scaled_df_test = scaler_fit.transform(df_test_assembled)\n",
    "scaled_df_test = scaled_df_test.select('CellName', 'PRBUsageUL', 'PRBUsageDL', \n",
    "                           'meanThr_DL', 'meanThr_UL', 'maxThr_DL', 'maxThr_UL', \n",
    "                           'meanUE_DL', 'meanUE_UL', 'maxUE_DL', 'maxUE_UL', 'features')\n",
    "\n",
    "scaled_df_test.show(5)"
   ]
  },
  {
   "cell_type": "markdown",
   "metadata": {},
   "source": [
    "## Store Features"
   ]
  },
  {
   "cell_type": "code",
   "execution_count": 22,
   "metadata": {},
   "outputs": [
    {
     "name": "stdout",
     "output_type": "stream",
     "text": [
      "+--------+--------------------+-------+\n",
      "|CellName|            features|Unusual|\n",
      "+--------+--------------------+-------+\n",
      "|   6ULTE|(34,[0,1,2,3,4,5,...|      0|\n",
      "|   1CLTE|(34,[0,1,2,3,4,5,...|      1|\n",
      "|   6VLTE|(34,[0,1,2,3,4,5,...|      1|\n",
      "|   6ULTE|(34,[0,1,2,3,4,5,...|      1|\n",
      "|   4BLTE|(34,[0,1,2,3,4,5,...|      0|\n",
      "|   9ALTE|(34,[0,1,2,3,4,5,...|      0|\n",
      "|   1ALTE|(34,[0,1,2,3,4,5,...|      1|\n",
      "|   4ALTE|(34,[0,1,2,3,4,5,...|      0|\n",
      "|   5ALTE|(34,[0,1,2,3,4,5,...|      0|\n",
      "|   8BLTE|(34,[0,1,2,3,4,5,...|      1|\n",
      "+--------+--------------------+-------+\n",
      "only showing top 10 rows\n",
      "\n",
      "root\n",
      " |-- CellName: string (nullable = true)\n",
      " |-- features: vector (nullable = true)\n",
      " |-- Unusual: integer (nullable = true)\n",
      "\n"
     ]
    }
   ],
   "source": [
    "train_df_feat = scaled_df_train.select(\"CellName\", \"features\", \"Unusual\")\n",
    "train_df_feat.show(10)\n",
    "train_df_feat.printSchema()"
   ]
  },
  {
   "cell_type": "code",
   "execution_count": 23,
   "metadata": {},
   "outputs": [
    {
     "name": "stdout",
     "output_type": "stream",
     "text": [
      "+--------+--------------------+\n",
      "|CellName|            features|\n",
      "+--------+--------------------+\n",
      "|   6ALTE|(34,[0,1,2,3,4,5,...|\n",
      "|   6ULTE|(34,[0,1,2,3,4,5,...|\n",
      "|   2ALTE|(34,[0,1,2,3,4,5,...|\n",
      "|   3CLTE|(34,[0,1,2,3,4,5,...|\n",
      "|   6CLTE|(34,[0,1,2,3,4,5,...|\n",
      "|   7CLTE|(34,[0,1,2,3,4,5,...|\n",
      "|   1BLTE|(34,[0,1,2,3,4,5,...|\n",
      "|   3CLTE|(34,[0,1,2,3,4,5,...|\n",
      "|   2ALTE|(34,[1,2,3,4,5,6,...|\n",
      "|   3ALTE|(34,[0,1,2,3,4,5,...|\n",
      "+--------+--------------------+\n",
      "only showing top 10 rows\n",
      "\n"
     ]
    }
   ],
   "source": [
    "test_df_feat = scaled_df_test.select(\"CellName\", \"features\")\n",
    "test_df_feat.show(10)"
   ]
  },
  {
   "cell_type": "code",
   "execution_count": 25,
   "metadata": {},
   "outputs": [],
   "source": [
    "# suppose to work\n",
    "scaler_fit.write().overwrite().save(features_dir)\n",
    "# train_features_path = set_path(features_dir, 'ML-MATT-CompetitionQT1920_train_features.csv')\n",
    "# test_features_path = set_path(features_dir, 'ML-MATT-CompetitionQT1920_test_features.csv')\n",
    "# train_df_feat.toPandas().to_csv(train_features_path, index=False, encoding='utf-8')\n",
    "# test_df_feat.toPandas().to_csv(test_features_path, index=False, encoding='utf-8')"
   ]
  },
  {
   "cell_type": "markdown",
   "metadata": {},
   "source": [
    "# 3. Model Training\n",
    "\n",
    "According to literature, tree models works well with this kind of problems\n"
   ]
  },
  {
   "cell_type": "markdown",
   "metadata": {},
   "source": [
    "## GBTClassifier"
   ]
  },
  {
   "cell_type": "code",
   "execution_count": 26,
   "metadata": {},
   "outputs": [
    {
     "name": "stdout",
     "output_type": "stream",
     "text": [
      "+--------+--------------------+-------+--------------------+--------------------+----------+\n",
      "|CellName|            features|Unusual|       rawPrediction|         probability|prediction|\n",
      "+--------+--------------------+-------+--------------------+--------------------+----------+\n",
      "|   6ULTE|(34,[0,1,2,3,4,5,...|      0|[-0.0427902648882...|[0.47861791620985...|       1.0|\n",
      "|   1CLTE|(34,[0,1,2,3,4,5,...|      1|[0.61901727720455...|[0.77522171473472...|       0.0|\n",
      "|   6VLTE|(34,[0,1,2,3,4,5,...|      1|[-0.0427902648882...|[0.47861791620985...|       1.0|\n",
      "|   6ULTE|(34,[0,1,2,3,4,5,...|      1|[0.02053032961511...|[0.51026372281406...|       0.0|\n",
      "|   4BLTE|(34,[0,1,2,3,4,5,...|      0|[0.61901727720455...|[0.77522171473472...|       0.0|\n",
      "+--------+--------------------+-------+--------------------+--------------------+----------+\n",
      "only showing top 5 rows\n",
      "\n"
     ]
    }
   ],
   "source": [
    "# Train a GBT model\n",
    "gbt = GBTClassifier(featuresCol=\"features\", labelCol='Unusual', maxIter=3, seed=888)\n",
    "model = gbt.fit(train_df_feat)\n",
    "predictions_train = model.transform(train_df_feat)\n",
    "predictions_train.show(5)"
   ]
  },
  {
   "cell_type": "markdown",
   "metadata": {},
   "source": [
    "## Evaluate the model"
   ]
  },
  {
   "cell_type": "code",
   "execution_count": 27,
   "metadata": {},
   "outputs": [
    {
     "name": "stdout",
     "output_type": "stream",
     "text": [
      "Confusion Matrix and Statistics: \n",
      "\n",
      "+------------------+-----+----+\n",
      "|Unusual_prediction|    0|   1|\n",
      "+------------------+-----+----+\n",
      "|                 0|11147|2020|\n",
      "|                 1| 3346|6821|\n",
      "+------------------+-----+----+\n",
      "\n",
      "True Positives: 6821\n",
      "True Negatives: 11147\n",
      "False Positives: 2020\n",
      "False Negatives: 3346\n",
      "Total: 23334 \n",
      "\n",
      "Accuracy: 0.77\n",
      "Sensitivity: 0.67\n",
      "Specificity: 0.85\n",
      "Precision: 0.77\n",
      "Recall: 0.67\n",
      "F1-score: 0.72\n"
     ]
    }
   ],
   "source": [
    "metrics(predictions_train, 'Unusual', 'prediction')"
   ]
  },
  {
   "cell_type": "code",
   "execution_count": 28,
   "metadata": {},
   "outputs": [],
   "source": [
    "predictions_test = model.transform(test_df_feat)"
   ]
  },
  {
   "cell_type": "code",
   "execution_count": 29,
   "metadata": {},
   "outputs": [
    {
     "name": "stdout",
     "output_type": "stream",
     "text": [
      "+--------+--------------------+--------------------+--------------------+----------+\n",
      "|CellName|            features|       rawPrediction|         probability|prediction|\n",
      "+--------+--------------------+--------------------+--------------------+----------+\n",
      "|   6ALTE|(34,[0,1,2,3,4,5,...|[-0.2050628010309...|[0.39888200451582...|       1.0|\n",
      "|   6ULTE|(34,[0,1,2,3,4,5,...|[0.65522141669415...|[0.78758724849262...|       0.0|\n",
      "|   2ALTE|(34,[0,1,2,3,4,5,...|[1.08604356545617...|[0.89771477223903...|       0.0|\n",
      "|   3CLTE|(34,[0,1,2,3,4,5,...|[1.16036086748836...|[0.91057872543355...|       0.0|\n",
      "|   6CLTE|(34,[0,1,2,3,4,5,...|[-0.3375221304381...|[0.33736826819910...|       1.0|\n",
      "+--------+--------------------+--------------------+--------------------+----------+\n",
      "only showing top 5 rows\n",
      "\n"
     ]
    }
   ],
   "source": [
    "predictions_test.show(5)"
   ]
  },
  {
   "cell_type": "markdown",
   "metadata": {},
   "source": [
    "# 4. Model Tuning"
   ]
  },
  {
   "cell_type": "code",
   "execution_count": null,
   "metadata": {},
   "outputs": [],
   "source": [
    "#Build Grid\n",
    "grid = ParamGridBuilder() \\\n",
    "        .addGrid(gbt.maxBins, [6]) \\\n",
    "        .addGrid(gbt.maxDepth, [2,4]) \\\n",
    "        .addGrid(gbt.maxIter, [4]).build()\n",
    "\n",
    "#Define evaluator\n",
    "evaluator = BinaryClassificationEvaluator(rawPredictionCol='prediction', \n",
    "                                          labelCol='Unusual', \n",
    "                                          metricName='areaUnderROC')\n",
    "\n",
    "cv = CrossValidator(estimator=gbt, \n",
    "                    estimatorParamMaps=grid, \n",
    "                    evaluator=evaluator, \n",
    "                    parallelism=4, \n",
    "                    seed=888)\n",
    "\n",
    "cvModel = cv.fit(train_df_feat)"
   ]
  },
  {
   "cell_type": "code",
   "execution_count": null,
   "metadata": {},
   "outputs": [],
   "source": [
    "cv_predictions_train = cvModel.transform(train_df_feat)\n",
    "cv_predictions_train.show(5)"
   ]
  },
  {
   "cell_type": "code",
   "execution_count": null,
   "metadata": {},
   "outputs": [],
   "source": [
    "metrics(predictions_train, 'Unusual', 'prediction')"
   ]
  },
  {
   "cell_type": "markdown",
   "metadata": {},
   "source": [
    "## 5. Store the model"
   ]
  },
  {
   "cell_type": "code",
   "execution_count": 30,
   "metadata": {},
   "outputs": [],
   "source": [
    "model.write().overwrite().save(path=models_dir)"
   ]
  },
  {
   "cell_type": "markdown",
   "metadata": {},
   "source": [
    "# Conclusion"
   ]
  },
  {
   "cell_type": "markdown",
   "metadata": {},
   "source": [
    "We get the model. Let's build the pipeline for deployment"
   ]
  }
 ],
 "metadata": {
  "kernelspec": {
   "display_name": "Python 3",
   "language": "python",
   "name": "python3"
  },
  "language_info": {
   "codemirror_mode": {
    "name": "ipython",
    "version": 3
   },
   "file_extension": ".py",
   "mimetype": "text/x-python",
   "name": "python",
   "nbconvert_exporter": "python",
   "pygments_lexer": "ipython3",
   "version": "3.8.6"
  },
  "latex_envs": {
   "LaTeX_envs_menu_present": true,
   "autoclose": false,
   "autocomplete": true,
   "bibliofile": "biblio.bib",
   "cite_by": "apalike",
   "current_citInitial": 1,
   "eqLabelWithNumbers": true,
   "eqNumInitial": 1,
   "hotkeys": {
    "equation": "Ctrl-E",
    "itemize": "Ctrl-I"
   },
   "labels_anchors": false,
   "latex_user_defs": false,
   "report_style_numbering": false,
   "user_envs_cfg": false
  },
  "toc": {
   "base_numbering": 1,
   "nav_menu": {},
   "number_sections": true,
   "sideBar": true,
   "skip_h1_title": false,
   "title_cell": "Table of Contents",
   "title_sidebar": "Contents",
   "toc_cell": false,
   "toc_position": {},
   "toc_section_display": true,
   "toc_window_display": true
  },
  "varInspector": {
   "cols": {
    "lenName": 16,
    "lenType": 16,
    "lenVar": 40
   },
   "kernels_config": {
    "python": {
     "delete_cmd_postfix": "",
     "delete_cmd_prefix": "del ",
     "library": "var_list.py",
     "varRefreshCmd": "print(var_dic_list())"
    },
    "r": {
     "delete_cmd_postfix": ") ",
     "delete_cmd_prefix": "rm(",
     "library": "var_list.r",
     "varRefreshCmd": "cat(var_dic_list()) "
    }
   },
   "types_to_exclude": [
    "module",
    "function",
    "builtin_function_or_method",
    "instance",
    "_Feature"
   ],
   "window_display": false
  }
 },
 "nbformat": 4,
 "nbformat_minor": 4
}
