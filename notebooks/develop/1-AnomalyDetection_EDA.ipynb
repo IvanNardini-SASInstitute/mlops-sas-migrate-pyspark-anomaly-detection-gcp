{
 "cells": [
  {
   "cell_type": "markdown",
   "metadata": {},
   "source": [
    "#  Anomaly detection in cellular networks"
   ]
  },
  {
   "cell_type": "markdown",
   "metadata": {},
   "source": [
    "## 1. Introduction\n",
    "\n",
    "The purpose of this notebook is to solve a anomaly detection problem proposed as a competition in the Kaggle InClass platform.\n",
    "\n",
    "## 2. Problem description\n",
    "\n",
    "### Context:\n",
    "\n",
    "Traditionally, the design of a cellular network focuses on the optimization of energy and resources that guarantees a smooth operation even during peak hours (i.e. periods with higher traffic load). \n",
    "However, this implies that cells are most of the time overprovisioned of radio resources. \n",
    "Next generation cellular networks ask for a dynamic management and configuration in order to adapt to the varying user demands in the most efficient way with regards to energy savings and utilization of frequency resources. \n",
    "If the network operator were capable of anticipating to those variations in the users’ traffic demands, a more efficient management of the scarce (and expensive) network resources would be possible.\n",
    "Current research in mobile networks looks upon Machine Learning (ML) techniques to help manage those resources. \n",
    "In this case, you will explore the possibilities of ML to detect abnormal behaviors in the utilization of the network that would motivate a change in the configuration of the base station.\n"
   ]
  },
  {
   "cell_type": "markdown",
   "metadata": {},
   "source": [
    "### Objective\n",
    "\n",
    "The objective of the network optimization team is to analyze traces of past activity, which will be used to train an ML system capable of classifying samples of current activity as:\n",
    " - 0 (normal): current activity corresponds to normal behavior of any working day and. Therefore, no re-configuration or redistribution of resources is needed.\n",
    " - 1 (unusual): current activity slightly differs from the behavior usually observed for that time of the day (e.g. due to a strike, demonstration, sports event, etc.), which should trigger a reconfiguration of the base station."
   ]
  },
  {
   "cell_type": "markdown",
   "metadata": {},
   "source": [
    "### Dataset\n",
    "\n",
    "The dataset has been obtained from a real LTE deployment. During two weeks, different metrics were gathered from a set of 10 base stations, each having a different number of cells, every 15 minutes. \n",
    "\n",
    "The dataset is provided in the form of a csv file, where each row corresponds to a sample obtained from one particular cell at a certain time. Each data example contains the following features:\n",
    "\n",
    " - Time : hour of the day (in the format hh:mm) when the sample was generated.\n",
    " - CellName1: text string used to uniquely identify the cell that generated the current sample. CellName is in the form xαLTE, where x identifies the base station, and α the cell within that base station (see the example in the right figure).\n",
    " - PRBUsageUL and PRBUsageDL: level of resource utilization in that cell measured as the portion of Physical Radio Blocks (PRB) that were in use (%) in the previous 15 minutes. Uplink (UL) and downlink (DL) are measured separately.\n",
    " - meanThrDL and meanThrUL: average carried traffic (in Mbps) during the past 15 minutes. Uplink (UL) and downlink (DL) are measured separately.\n",
    " - maxThrDL and maxThrUL: maximum carried traffic (in Mbps) measured in the last 15 minutes. Uplink (UL) and downlink (DL) are measured separately.\n",
    " - meanUEDL and meanUEUL: average number of user equipment (UE) devices that were simultaneously active during the last 15 minutes. Uplink (UL) and downlink (DL) are measured separately.\n",
    " - maxUEDL and maxUEUL: maximum number of user equipment (UE) devices that were simultaneously active during the last 15 minutes. Uplink (UL) and downlink (DL) are measured separately.\n",
    " - maxUE_UL+DL: maximum number of user equipment (UE) devices that were active simultaneously in the last 15 minutes, regardless of UL and DL.\n",
    " - Unusual: labels for supervised learning. A value of 0 determines that the sample corresponds to normal operation, a value of 1 identifies unusual behavior."
   ]
  },
  {
   "cell_type": "markdown",
   "metadata": {},
   "source": [
    "## Libraries"
   ]
  },
  {
   "cell_type": "code",
   "execution_count": null,
   "metadata": {},
   "outputs": [],
   "source": [
    "import os\n",
    "import sys\n",
    "from zipfile import ZipFile\n",
    "\n",
    "#Data\n",
    "import kaggle\n",
    "import pandas as pd\n",
    "\n",
    "#Analysis\n",
    "import pyspark\n",
    "try:\n",
    "    from pyspark import SparkContext, SparkConf\n",
    "    from pyspark.sql import SparkSession\n",
    "except ImportError as e:\n",
    "    print('WARN: Something wrong with pyspark library. Please check configuration settings!')\n",
    "from pyspark.sql.types import StructType, DoubleType, IntegerType, StringType, TimestampType\n",
    "from pyspark.sql.functions import col, split\n",
    "    \n",
    "\n",
    "# Reloads functions each time so you can edit a script and not need to restart the kernel\n",
    "%load_ext autoreload\n",
    "%autoreload 2"
   ]
  },
  {
   "cell_type": "code",
   "execution_count": null,
   "metadata": {
    "ExecuteTime": {
     "end_time": "2019-02-22T23:24:54.758152Z",
     "start_time": "2019-02-22T23:24:52.721941Z"
    }
   },
   "outputs": [],
   "source": [
    "# # must go first\n",
    "# %matplotlib inline\n",
    "# %config InlineBackend.figure_format='retina'\n",
    "\n",
    "# # plotting\n",
    "# import matplotlib as mpl\n",
    "# from matplotlib import pyplot as plt\n",
    "# import seaborn as sns\n",
    "# sns.set_context(\"poster\", font_scale=1.3)\n",
    "\n",
    "# import sys\n",
    "# import os\n",
    "# import datetime\n",
    "\n",
    "# sns.set()\n",
    "# sns.set_context('poster', font_scale=1.3)\n",
    "# sns.set_style(\"white\")\n",
    "\n",
    "# import warnings\n",
    "# warnings.filterwarnings('ignore')\n",
    "\n",
    "# # basic wrangling\n",
    "# import numpy as np\n",
    "# import yaml\n",
    "# import json\n",
    "# import re\n",
    "# import pandas as pd\n",
    "\n",
    "# # eda tools\n",
    "# import pivottablejs\n",
    "# import missingno as msno\n",
    "\n",
    "# # Update matplotlib defaults to something nicer\n",
    "# mpl_update = {\n",
    "#     'font.size': 16,\n",
    "#     'xtick.labelsize': 14,\n",
    "#     'ytick.labelsize': 14,\n",
    "#     'figure.figsize': [12.0, 8.0],\n",
    "#     'axes.labelsize': 20,\n",
    "#     'axes.labelcolor': '#677385',\n",
    "#     'axes.titlesize': 20,\n",
    "#     'lines.color': '#0055A7',\n",
    "#     'lines.linewidth': 3,\n",
    "#     'text.color': '#677385',\n",
    "#     'font.family': 'sans-serif',\n",
    "#     'font.sans-serif': 'Tahoma'\n",
    "# }\n",
    "# mpl.rcParams.update(mpl_update)"
   ]
  },
  {
   "cell_type": "markdown",
   "metadata": {},
   "source": [
    "## Helpers"
   ]
  },
  {
   "cell_type": "code",
   "execution_count": null,
   "metadata": {
    "ExecuteTime": {
     "end_time": "2019-02-22T23:24:55.390680Z",
     "start_time": "2019-02-22T23:24:55.344380Z"
    }
   },
   "outputs": [],
   "source": [
    "def get_root_dir(src:str, max_nest:int) -> str:\n",
    "    '''\n",
    "    Specify paths and appending directories with relevant python source code.\n",
    "    '''\n",
    "    root_dir = os.curdir\n",
    "    nest = 0\n",
    "    while src not in os.listdir(root_dir) and nest < max_nest:\n",
    "        root_dir = os.path.join(os.pardir, root_dir)     # Look up the directory structure for a src directory\n",
    "        nest += 1\n",
    "        \n",
    "    # If you don't find the src directory, the root directory is this directory\n",
    "    root_dir = os.path.abspath(root_dir) if nest < max_nest else os.path.abspath(\n",
    "    os.curdir)\n",
    "    \n",
    "    return root_dir\n",
    "\n",
    "def set_src(root_dir:str, src:str) -> str:\n",
    "    '''\n",
    "     Get the source directory and append path to access python packages/scripts within directory\n",
    "    '''\n",
    "    if src in os.listdir(root_dir):\n",
    "        src_dir = os.path.join(root_dir, src)\n",
    "        sys.path.append(src_dir)\n",
    "    return sys.path[-1]\n",
    "\n",
    "def set_data(root_dir:str, data:str) -> str:\n",
    "    '''\n",
    "    '''\n",
    "    data_dir = os.path.join(\n",
    "        root_dir, data) if data in os.listdir(root_dir) else os.curdir\n",
    "    return data_dir\n",
    "\n",
    "def set_figures(root_dir:str, figures:str) -> str:\n",
    "    '''\n",
    "    '''\n",
    "    figures_dir = os.path.join(\n",
    "        root_dir,\n",
    "        figures) if figures in os.listdir(root_dir) else os.curdir\n",
    "    return figures_dir\n",
    "    \n",
    "def set_models(root_dir:str, models:str) -> str:\n",
    "    '''\n",
    "    '''\n",
    "    models_dir = os.path.join(\n",
    "        root_dir, models) if models in os.listdir(root_dir) else os.curdir\n",
    "    return models_dir\n",
    "\n",
    "def set_path(path:str, dirname:str) -> str:\n",
    "    '''\n",
    "    '''\n",
    "    return os.path.join(path, dirname)\n",
    "\n",
    "def unzip(inpath:str, outpath:str) -> None:\n",
    "    zf = ZipFile(inpath, 'r')\n",
    "    zf.extractall(outpath)\n",
    "    zf.close()    \n",
    "\n",
    "# # Prepends the directory path for specifying paths to data or figures\n",
    "# # dataplus(\"data.csv\") -> \"/Users/cmawer/project/data/data.csv\"\n",
    "# # figplus(\"cool.png\") -> \"/Users/cmawer/project/figures/cool.png\"\n",
    "# dataplus = lambda x: os.path.join(data_dir, x)\n",
    "# dataextplus = lambda x: os.path.join(external_data_dir, x)\n",
    "# figplus = lambda x: os.path.join(figure_dir, x)\n",
    "# modelsplus = lambda x: os.path.join(models_dir, x)\n",
    "\n",
    "# # Prepends the date to a string (e.g. to save dated files)\n",
    "# # dateplus(\"cool-figure.png\") -> \"2018-12-05-cool-figure.png\"\n",
    "# now = datetime.datetime.now().strftime(\"%Y-%m-%d\")\n",
    "# dateplus = lambda x: \"%s-%s\" % (now, x)"
   ]
  },
  {
   "cell_type": "markdown",
   "metadata": {},
   "source": [
    "## Setup"
   ]
  },
  {
   "cell_type": "code",
   "execution_count": null,
   "metadata": {},
   "outputs": [],
   "source": [
    "root_dir = get_root_dir('src', 5)\n",
    "src_dir = set_src(root_dir, 'src')\n",
    "data_dir = set_data(root_dir, 'data')\n",
    "raw_data_dir = set_path(data_dir, 'raw')\n",
    "processed_data_dir = set_path(data_dir, 'processed')\n",
    "figures_dir = set_figures(root_dir, 'figures')\n",
    "models_dir = set_models(root_dir, 'models')"
   ]
  },
  {
   "cell_type": "code",
   "execution_count": null,
   "metadata": {},
   "outputs": [],
   "source": [
    "# To convert to html with collapsible headings and table of contents\n",
    "# change filename and run cell\n",
    "# filename = \"template.ipynb\"\n",
    "# ! jupyter nbconvert --to html_ch {filename} --template toc2"
   ]
  },
  {
   "cell_type": "markdown",
   "metadata": {},
   "source": [
    "# 1. Data"
   ]
  },
  {
   "cell_type": "markdown",
   "metadata": {},
   "source": [
    "## Download from Kaggle and inspect data"
   ]
  },
  {
   "cell_type": "code",
   "execution_count": null,
   "metadata": {},
   "outputs": [],
   "source": [
    "!kaggle competitions download -c anomaly-detection-in-cellular-networks -p ../../data/raw/ --force"
   ]
  },
  {
   "cell_type": "code",
   "execution_count": null,
   "metadata": {},
   "outputs": [],
   "source": [
    "unzip('../../data/raw/anomaly-detection-in-cellular-networks.zip', raw_data_dir)"
   ]
  },
  {
   "cell_type": "code",
   "execution_count": null,
   "metadata": {},
   "outputs": [],
   "source": [
    "train_path = set_path(raw_data_dir, 'ML-MATT-CompetitionQT1920_train.csv')\n",
    "test_path = set_path(raw_data_dir, 'ML-MATT-CompetitionQT1920_test.csv')\n",
    "train_data = pd.read_csv(train_path, header=0, sep=',', engine='python') #because UnicodeDecodeError with c engine"
   ]
  },
  {
   "cell_type": "code",
   "execution_count": null,
   "metadata": {},
   "outputs": [],
   "source": [
    "train_data.head()"
   ]
  },
  {
   "cell_type": "code",
   "execution_count": null,
   "metadata": {},
   "outputs": [],
   "source": [
    "train_data.columns"
   ]
  },
  {
   "cell_type": "code",
   "execution_count": null,
   "metadata": {},
   "outputs": [],
   "source": [
    "train_data.info()"
   ]
  },
  {
   "cell_type": "markdown",
   "metadata": {},
   "source": [
    "# 2. ETL"
   ]
  },
  {
   "cell_type": "markdown",
   "metadata": {},
   "source": [
    "## Initiate Spark session"
   ]
  },
  {
   "cell_type": "code",
   "execution_count": null,
   "metadata": {},
   "outputs": [],
   "source": [
    "#If not exists create a spark session named Anomaly Detection where the master node is local\n",
    "spark = SparkSession.builder \\\n",
    "    .master(\"local\") \\\n",
    "    .appName(\"Anomaly Detection\") \\\n",
    "    .getOrCreate()"
   ]
  },
  {
   "cell_type": "code",
   "execution_count": null,
   "metadata": {},
   "outputs": [],
   "source": [
    "spark.getActiveSession()"
   ]
  },
  {
   "cell_type": "markdown",
   "metadata": {},
   "source": [
    "## Extract"
   ]
  },
  {
   "cell_type": "markdown",
   "metadata": {},
   "source": [
    "### Define schema\n"
   ]
  },
  {
   "cell_type": "code",
   "execution_count": null,
   "metadata": {},
   "outputs": [],
   "source": [
    "schema = StructType() \\\n",
    "    .add(\"Time\", StringType(), True) \\\n",
    "    .add(\"CellName\", StringType(), True) \\\n",
    "    .add(\"PRBUsageUL\", DoubleType(), True) \\\n",
    "    .add(\"PRBUsageDL\", DoubleType(), True) \\\n",
    "    .add(\"meanThr_DL\", DoubleType(), True) \\\n",
    "    .add(\"meanThr_UL\", DoubleType(), True) \\\n",
    "    .add(\"maxThr_DL\", DoubleType(), True) \\\n",
    "    .add(\"maxThr_UL\", DoubleType(), True) \\\n",
    "    .add(\"meanUE_DL\", DoubleType(), True) \\\n",
    "    .add(\"meanUE_UL\", DoubleType(), True) \\\n",
    "    .add(\"maxUE_DL\", DoubleType(), True) \\\n",
    "    .add(\"maxUE_UL\", DoubleType(), True) \\\n",
    "    .add(\"maxUE_UL+DL\", IntegerType(), True) \\\n",
    "    .add(\"Unusual\", IntegerType(), True)\n",
    "\n",
    "schema"
   ]
  },
  {
   "cell_type": "code",
   "execution_count": null,
   "metadata": {},
   "outputs": [],
   "source": [
    "train_df = spark.read.option(\"header\", True) \\\n",
    "                .option(\"delimiter\", ',') \\\n",
    "                .schema(schema) \\\n",
    "                .csv(train_path)\n",
    "\n",
    "test_df = spark.read.option(\"header\", True) \\\n",
    "                .option(\"delimiter\", ',') \\\n",
    "                .schema(schema) \\\n",
    "                .csv(test_path)"
   ]
  },
  {
   "cell_type": "code",
   "execution_count": null,
   "metadata": {},
   "outputs": [],
   "source": [
    "train_df.show(5)"
   ]
  },
  {
   "cell_type": "markdown",
   "metadata": {},
   "source": [
    "## Transform\n",
    "\n",
    "Because we have:\n",
    "\n",
    " - a particular time format (hh:mm)\n",
    " - a composed cell identifier (xαLTE)\n",
    " - a messy name (maxUE_UL+DL)\n",
    " - missing values\n",
    " \n",
    "we need to implement some transformations:\n",
    "\n",
    " - we want to use only hh. Then we can slip Time field and drop minutes\n",
    " - I would leave the cell indentifier because we want to optimize for cell\n",
    " - rename maxUE_UL+DL in maxUE_UL_DL\n",
    " - we could consider drop missings for simplicity\n"
   ]
  },
  {
   "cell_type": "code",
   "execution_count": null,
   "metadata": {
    "jupyter": {
     "source_hidden": true
    }
   },
   "outputs": [],
   "source": [
    "flt = \"\"\"\n",
    "PRBUsageUL IS NOT NULL\n",
    "and PRBUsageDL IS NOT NULL\n",
    "and meanThr_DL IS NOT NULL\n",
    "and meanThr_UL IS NOT NULL\n",
    "and maxThr_DL IS NOT NULL\n",
    "and maxThr_UL IS NOT NULL\n",
    "and meanUE_DL IS NOT NULL\n",
    "and meanUE_UL IS NOT NULL\n",
    "and maxUE_DL IS NOT NULL\n",
    "and maxUE_UL IS NOT NULL\n",
    "and maxUE_UL_DL IS NOT NULL\n",
    "and Unusual IS NOT NULL\n",
    "\"\"\"\n",
    "\n",
    "train_df = train_df.withColumn('hour', split(train_df['Time'], ':').getItem(0)) \\\n",
    "                   .withColumnRenamed(\"maxUE_UL+DL\",\"maxUE_UL_DL\") \\\n",
    "                   .filter(flt) \\\n",
    "                   .drop(train_df['Time'])\n",
    "\n",
    "train_df.show(5)\n",
    "print(f\"The new number of rown is {train_df.count()}\")"
   ]
  },
  {
   "cell_type": "code",
   "execution_count": null,
   "metadata": {},
   "outputs": [],
   "source": [
    "flt = \"\"\"\n",
    "PRBUsageUL IS NOT NULL\n",
    "and PRBUsageDL IS NOT NULL\n",
    "and meanThr_DL IS NOT NULL\n",
    "and meanThr_UL IS NOT NULL\n",
    "and maxThr_DL IS NOT NULL\n",
    "and maxThr_UL IS NOT NULL\n",
    "and meanUE_DL IS NOT NULL\n",
    "and meanUE_UL IS NOT NULL\n",
    "and maxUE_DL IS NOT NULL\n",
    "and maxUE_UL IS NOT NULL\n",
    "and maxUE_UL_DL IS NOT NULL\n",
    "\"\"\"\n",
    "test_df = test_df.withColumn('hour', split(test_df['Time'], ':').getItem(0)) \\\n",
    "                   .withColumnRenamed(\"maxUE_UL+DL\",\"maxUE_UL_DL\") \\\n",
    "                   .filter(flt) \\\n",
    "                   .drop(test_df['Time'])\n",
    "\n",
    "test_df.show(5)\n",
    "print(f\"The new number of rown is {test_df.count()}\")"
   ]
  },
  {
   "cell_type": "markdown",
   "metadata": {},
   "source": [
    "## Load\n",
    "\n",
    "I don't have a load actually. But I can store it in csv file for now."
   ]
  },
  {
   "cell_type": "code",
   "execution_count": null,
   "metadata": {},
   "outputs": [],
   "source": [
    "processed_train_path = set_path(processed_data_dir, 'ML-MATT-CompetitionQT1920_train_processed.csv')\n",
    "processed_test_path = set_path(processed_data_dir, 'ML-MATT-CompetitionQT1920_test_processed.csv')\n",
    "\n",
    "train_df.write.csv(processed_train_path)\n",
    "test_df.write.csv(processed_test_path)"
   ]
  },
  {
   "cell_type": "markdown",
   "metadata": {},
   "source": [
    "# 2. Analysis"
   ]
  },
  {
   "cell_type": "markdown",
   "metadata": {},
   "source": [
    "# Conclusions"
   ]
  },
  {
   "cell_type": "markdown",
   "metadata": {},
   "source": [
    "## Decisions made\n",
    "\n",
    "## Key findings \n",
    "1. \n",
    "2. \n",
    "3. \n",
    "\n",
    "## Next steps\n",
    "1. \n",
    "2. "
   ]
  },
  {
   "cell_type": "markdown",
   "metadata": {},
   "source": [
    "# Appendix"
   ]
  },
  {
   "cell_type": "markdown",
   "metadata": {},
   "source": [
    "## Watermark \n",
    "For full reproducibility of results, use exact data extraction as defined at top of notebook and ensure that the environment is exactly as follows: "
   ]
  },
  {
   "cell_type": "code",
   "execution_count": null,
   "metadata": {
    "ExecuteTime": {
     "end_time": "2018-12-06T00:13:31.035260Z",
     "start_time": "2018-12-06T00:13:30.984210Z"
    }
   },
   "outputs": [],
   "source": [
    "# ! pip install watermark\n",
    "%load_ext watermark\n",
    "%watermark -v -m --iversions -g"
   ]
  },
  {
   "cell_type": "markdown",
   "metadata": {},
   "source": [
    "<center>© <a href=\"http://lineagelogistics.com\">2019 Lineage Logistics</a></center>"
   ]
  }
 ],
 "metadata": {
  "kernelspec": {
   "display_name": "Python 3",
   "language": "python",
   "name": "python3"
  },
  "language_info": {
   "codemirror_mode": {
    "name": "ipython",
    "version": 3
   },
   "file_extension": ".py",
   "mimetype": "text/x-python",
   "name": "python",
   "nbconvert_exporter": "python",
   "pygments_lexer": "ipython3",
   "version": "3.6.11"
  },
  "latex_envs": {
   "LaTeX_envs_menu_present": true,
   "autoclose": false,
   "autocomplete": true,
   "bibliofile": "biblio.bib",
   "cite_by": "apalike",
   "current_citInitial": 1,
   "eqLabelWithNumbers": true,
   "eqNumInitial": 1,
   "hotkeys": {
    "equation": "Ctrl-E",
    "itemize": "Ctrl-I"
   },
   "labels_anchors": false,
   "latex_user_defs": false,
   "report_style_numbering": false,
   "user_envs_cfg": false
  },
  "toc": {
   "base_numbering": 1,
   "nav_menu": {},
   "number_sections": true,
   "sideBar": true,
   "skip_h1_title": false,
   "title_cell": "Table of Contents",
   "title_sidebar": "Contents",
   "toc_cell": false,
   "toc_position": {},
   "toc_section_display": true,
   "toc_window_display": true
  },
  "varInspector": {
   "cols": {
    "lenName": 16,
    "lenType": 16,
    "lenVar": 40
   },
   "kernels_config": {
    "python": {
     "delete_cmd_postfix": "",
     "delete_cmd_prefix": "del ",
     "library": "var_list.py",
     "varRefreshCmd": "print(var_dic_list())"
    },
    "r": {
     "delete_cmd_postfix": ") ",
     "delete_cmd_prefix": "rm(",
     "library": "var_list.r",
     "varRefreshCmd": "cat(var_dic_list()) "
    }
   },
   "types_to_exclude": [
    "module",
    "function",
    "builtin_function_or_method",
    "instance",
    "_Feature"
   ],
   "window_display": false
  }
 },
 "nbformat": 4,
 "nbformat_minor": 4
}
