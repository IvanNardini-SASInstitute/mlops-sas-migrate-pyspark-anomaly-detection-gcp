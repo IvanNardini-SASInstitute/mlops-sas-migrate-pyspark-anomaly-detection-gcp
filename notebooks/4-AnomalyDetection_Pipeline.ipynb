{
 "cells": [
  {
   "cell_type": "markdown",
   "metadata": {},
   "source": [
    "#  Anomaly detection in cellular networks"
   ]
  },
  {
   "cell_type": "markdown",
   "metadata": {},
   "source": [
    "## Introduction\n",
    "\n",
    "The purpose of this notebook is to solve a anomaly detection problem proposed as a competition in the Kaggle InClass platform.\n",
    "\n",
    "## Problem description\n",
    "\n",
    "### Context:\n",
    "\n",
    "Traditionally, the design of a cellular network focuses on the optimization of energy and resources that guarantees a smooth operation even during peak hours (i.e. periods with higher traffic load). \n",
    "However, this implies that cells are most of the time overprovisioned of radio resources. \n",
    "Next generation cellular networks ask for a dynamic management and configuration in order to adapt to the varying user demands in the most efficient way with regards to energy savings and utilization of frequency resources. \n",
    "If the network operator were capable of anticipating to those variations in the users’ traffic demands, a more efficient management of the scarce (and expensive) network resources would be possible.\n",
    "Current research in mobile networks looks upon Machine Learning (ML) techniques to help manage those resources. \n",
    "In this case, you will explore the possibilities of ML to detect abnormal behaviors in the utilization of the network that would motivate a change in the configuration of the base station.\n"
   ]
  },
  {
   "cell_type": "markdown",
   "metadata": {},
   "source": [
    "### Objective\n",
    "\n",
    "The objective of the network optimization team is to analyze traces of past activity, which will be used to train an ML system capable of classifying samples of current activity as:\n",
    " - 0 (normal): current activity corresponds to normal behavior of any working day and. Therefore, no re-configuration or redistribution of resources is needed.\n",
    " - 1 (unusual): current activity slightly differs from the behavior usually observed for that time of the day (e.g. due to a strike, demonstration, sports event, etc.), which should trigger a reconfiguration of the base station."
   ]
  },
  {
   "cell_type": "markdown",
   "metadata": {},
   "source": [
    "### Dataset\n",
    "\n",
    "The dataset has been obtained from a real LTE deployment. During two weeks, different metrics were gathered from a set of 10 base stations, each having a different number of cells, every 15 minutes. \n",
    "\n",
    "The dataset is provided in the form of a csv file, where each row corresponds to a sample obtained from one particular cell at a certain time. Each data example contains the following features:\n",
    "\n",
    " - Time : hour of the day (in the format hh:mm) when the sample was generated.\n",
    " - CellName1: text string used to uniquely identify the cell that generated the current sample. CellName is in the form xαLTE, where x identifies the base station, and α the cell within that base station (see the example in the right figure).\n",
    " - PRBUsageUL and PRBUsageDL: level of resource utilization in that cell measured as the portion of Physical Radio Blocks (PRB) that were in use (%) in the previous 15 minutes. Uplink (UL) and downlink (DL) are measured separately.\n",
    " - meanThrDL and meanThrUL: average carried traffic (in Mbps) during the past 15 minutes. Uplink (UL) and downlink (DL) are measured separately.\n",
    " - maxThrDL and maxThrUL: maximum carried traffic (in Mbps) measured in the last 15 minutes. Uplink (UL) and downlink (DL) are measured separately.\n",
    " - meanUEDL and meanUEUL: average number of user equipment (UE) devices that were simultaneously active during the last 15 minutes. Uplink (UL) and downlink (DL) are measured separately.\n",
    " - maxUEDL and maxUEUL: maximum number of user equipment (UE) devices that were simultaneously active during the last 15 minutes. Uplink (UL) and downlink (DL) are measured separately.\n",
    " - maxUE_UL+DL: maximum number of user equipment (UE) devices that were active simultaneously in the last 15 minutes, regardless of UL and DL.\n",
    " - Unusual: labels for supervised learning. A value of 0 determines that the sample corresponds to normal operation, a value of 1 identifies unusual behavior."
   ]
  },
  {
   "cell_type": "markdown",
   "metadata": {},
   "source": [
    "## Libraries"
   ]
  },
  {
   "cell_type": "code",
   "execution_count": 1,
   "metadata": {},
   "outputs": [],
   "source": [
    "import os\n",
    "import sys\n",
    "import random\n",
    "random.seed(888) #set seed for reproducibility\n",
    "from zipfile import ZipFile\n",
    "from IPython.display import Image\n",
    "\n",
    "\n",
    "#Analysis\n",
    "import pyspark\n",
    "try:\n",
    "    from pyspark import SparkContext, SparkConf\n",
    "    from pyspark.sql import SparkSession\n",
    "except ImportError as e:\n",
    "    print('WARN: Something wrong with pyspark library. Please check configuration settings!')\n",
    "    \n",
    "#Feature Engineering\n",
    "from pyspark.ml import Pipeline\n",
    "from pyspark.ml.linalg import Vectors\n",
    "from pyspark.ml.feature import StringIndexer, OneHotEncoder, VectorAssembler, MinMaxScaler\n",
    "#Model Training\n",
    "from pyspark.ml.classification import GBTClassifier\n",
    "from pyspark.ml.evaluation import BinaryClassificationEvaluator\n",
    "from pyspark.ml.tuning import CrossValidator, ParamGridBuilder\n",
    "    \n",
    "# Reloads functions each time so you can edit a script and not need to restart the kernel\n",
    "%load_ext autoreload\n",
    "%autoreload 2"
   ]
  },
  {
   "cell_type": "markdown",
   "metadata": {},
   "source": [
    "## Helpers"
   ]
  },
  {
   "cell_type": "code",
   "execution_count": 2,
   "metadata": {
    "ExecuteTime": {
     "end_time": "2019-02-22T23:24:55.390680Z",
     "start_time": "2019-02-22T23:24:55.344380Z"
    }
   },
   "outputs": [],
   "source": [
    "def get_root_dir(src:str, max_nest:int) -> str:\n",
    "    '''\n",
    "    Specify paths and appending directories with relevant python source code.\n",
    "    '''\n",
    "    root_dir = os.curdir\n",
    "    nest = 0\n",
    "    while src not in os.listdir(root_dir) and nest < max_nest:\n",
    "        root_dir = os.path.join(os.pardir, root_dir)     # Look up the directory structure for a src directory\n",
    "        nest += 1\n",
    "        \n",
    "    # If you don't find the src directory, the root directory is this directory\n",
    "    root_dir = os.path.abspath(root_dir) if nest < max_nest else os.path.abspath(\n",
    "    os.curdir)\n",
    "    \n",
    "    return root_dir\n",
    "\n",
    "def set_src(root_dir:str, src:str) -> str:\n",
    "    '''\n",
    "     Get the source directory and append path to access python packages/scripts within directory\n",
    "    '''\n",
    "    if src in os.listdir(root_dir):\n",
    "        src_dir = os.path.join(root_dir, src)\n",
    "        sys.path.append(src_dir)\n",
    "    return sys.path[-1]\n",
    "\n",
    "def set_folder(root_dir:str, folder:str) -> str:\n",
    "    '''\n",
    "    Set the folder path based on the folder name\n",
    "    '''\n",
    "    folder_path = os.path.join(\n",
    "        root_dir, folder) if folder in os.listdir(root_dir) else os.curdir\n",
    "    return folder_path\n",
    "\n",
    "def set_path(path:str, dirname:str) -> str:\n",
    "    '''\n",
    "    '''\n",
    "    return os.path.join(path, dirname)\n",
    "\n",
    "def unzip(inpath:str, outpath:str) -> None:\n",
    "    zf = ZipFile(inpath, 'r')\n",
    "    zf.extractall(outpath)\n",
    "    zf.close()\n",
    "    \n",
    "def metrics(dataframe, actual, predicted):\n",
    "    '''\n",
    "    Calculates evaluation metrics from predicted results\n",
    "    \n",
    "    Input:\n",
    "    ---------\n",
    "        dataframe: spark.sql.dataframe with the real and predicted values [object]\n",
    "        actual:  Name of column with observed target values [string]\n",
    "        predicted: Name of column with predicted values [string]\n",
    "        \n",
    "    \n",
    "    Output:\n",
    "    ---------\n",
    "        None\n",
    "    '''\n",
    "       \n",
    "    # Along each row are the actual values and down each column are the predicted\n",
    "    dataframe = dataframe.withColumn(actual, col(actual).cast('integer'))\n",
    "    dataframe = dataframe.withColumn(predicted, col(predicted).cast('integer'))\n",
    "    cm = dataframe.crosstab(actual, predicted)\n",
    "    cm = cm.sort(cm.columns[0], ascending = True)\n",
    "    \n",
    "    # Adds missing column in case just one class was predicted\n",
    "    if not '0' in cm.columns:\n",
    "        cm = cm.withColumn('0', lit(0))\n",
    "    if not '1' in cm.columns:\n",
    "        cm = cm.withColumn('1', lit(0))\n",
    "    \n",
    "    # Subsets values from confusion matrix\n",
    "    zero = cm.filter(cm[cm.columns[0]] == 0.0)\n",
    "    first_0 = zero.take(1)\n",
    "    \n",
    "    one = cm.filter(cm[cm.columns[0]] == 1.0)\n",
    "    first_1 = one.take(1)\n",
    "    \n",
    "    tn = first_0[0][1]\n",
    "    fp = first_0[0][2]\n",
    "    fn = first_1[0][1]\n",
    "    tp = first_1[0][2]\n",
    "    \n",
    "    # Calculate metrics from values in the confussion matrix\n",
    "    if (tp == 0):\n",
    "        acc = float((tp + tn) / (tp + tn + fp + fn))\n",
    "        sen = 0\n",
    "        spe = float((tn) / (tn + fp))\n",
    "        prec = 0\n",
    "        rec = 0\n",
    "        f1 = 0\n",
    "    elif (tn == 0):\n",
    "        acc = float((tp + tn) / (tp + tn + fp + fn))\n",
    "        sen = float((tp) / (tp + fn))\n",
    "        spe = 0\n",
    "        prec = float((tp) / (tp + fp))\n",
    "        rec = float((tp) / (tp + fn))\n",
    "        f1 = 2 * float((prec * rec) / (prec + rec))\n",
    "    else:\n",
    "        acc = float((tp + tn) / (tp + tn + fp + fn))\n",
    "        sen = float((tp) / (tp + fn))\n",
    "        spe = float((tn) / (tn + fp))\n",
    "        prec = float((tp) / (tp + fp))\n",
    "        rec = float((tp) / (tp + fn))\n",
    "        f1 = 2 * float((prec * rec) / (prec + rec))\n",
    "\n",
    "    # Print results\n",
    "    print('Confusion Matrix and Statistics: \\n')\n",
    "    cm.show()\n",
    "    \n",
    "    print('True Positives:', tp)\n",
    "    print('True Negatives:', tn)\n",
    "    print('False Positives:', fp)\n",
    "    print('False Negatives:', fn)\n",
    "    print('Total:', dataframe.count(), '\\n')\n",
    "    \n",
    "    print('Accuracy: {0:.2f}'.format(acc))\n",
    "    print('Sensitivity: {0:.2f}'.format(sen))\n",
    "    print('Specificity: {0:.2f}'.format(spe))\n",
    "    print('Precision: {0:.2f}'.format(prec))\n",
    "    print('Recall: {0:.2f}'.format(rec))\n",
    "    print('F1-score: {0:.2f}'.format(f1))\n",
    "    \n",
    "    # Create spark dataframe with results\n",
    "    l = [(acc, sen, spe, prec, rec, f1)]\n",
    "    df = spark.createDataFrame(l, ['Accuracy', 'Sensitivity', 'Specificity', 'Precision', 'Recall', 'F1'])\n",
    "\n",
    "    return(df)"
   ]
  },
  {
   "cell_type": "markdown",
   "metadata": {},
   "source": [
    "## Setup"
   ]
  },
  {
   "cell_type": "code",
   "execution_count": 26,
   "metadata": {},
   "outputs": [],
   "source": [
    "root_dir = get_root_dir('src', 5)\n",
    "src_dir = set_src(root_dir, 'src')\n",
    "data_dir = set_folder(root_dir, 'data')\n",
    "raw_data_dir = set_path(data_dir, 'raw')\n",
    "interim_data_dir = set_path(data_dir, 'interim')\n",
    "processed_data_dir = set_path(data_dir, 'processed')\n",
    "figures_dir = set_folder(root_dir, 'figures')\n",
    "features_dir = set_folder(root_dir, 'features')\n",
    "index_features_dir = set_path(features_dir, 'index')\n",
    "ohe_features_dir = set_path(features_dir, 'ohe')\n",
    "std_features_dir = set_path(features_dir, 'std')\n",
    "models_dir = set_folder(root_dir, 'models')\n",
    "deliverables_path = set_folder(root_dir, 'deliverables')"
   ]
  },
  {
   "cell_type": "markdown",
   "metadata": {},
   "source": [
    "# 1. Data"
   ]
  },
  {
   "cell_type": "markdown",
   "metadata": {},
   "source": [
    "## Initiate Spark session"
   ]
  },
  {
   "cell_type": "code",
   "execution_count": 4,
   "metadata": {},
   "outputs": [],
   "source": [
    "#If not exists create a spark session named Anomaly Detection where the master node is local\n",
    "spark = SparkSession.builder \\\n",
    "    .master(\"local[4]\") \\\n",
    "    .appName(\"Anomaly Detection\") \\\n",
    "    .getOrCreate()"
   ]
  },
  {
   "cell_type": "code",
   "execution_count": 5,
   "metadata": {},
   "outputs": [
    {
     "data": {
      "text/html": [
       "\n",
       "            <div>\n",
       "                <p><b>SparkSession - in-memory</b></p>\n",
       "                \n",
       "        <div>\n",
       "            <p><b>SparkContext</b></p>\n",
       "\n",
       "            <p><a href=\"http://1baeb6156942:4040\">Spark UI</a></p>\n",
       "\n",
       "            <dl>\n",
       "              <dt>Version</dt>\n",
       "                <dd><code>v3.0.1</code></dd>\n",
       "              <dt>Master</dt>\n",
       "                <dd><code>local[4]</code></dd>\n",
       "              <dt>AppName</dt>\n",
       "                <dd><code>Anomaly Detection</code></dd>\n",
       "            </dl>\n",
       "        </div>\n",
       "        \n",
       "            </div>\n",
       "        "
      ],
      "text/plain": [
       "<pyspark.sql.session.SparkSession at 0x7f8548023640>"
      ]
     },
     "execution_count": 5,
     "metadata": {},
     "output_type": "execute_result"
    }
   ],
   "source": [
    "spark.getActiveSession()"
   ]
  },
  {
   "cell_type": "markdown",
   "metadata": {},
   "source": [
    "## Load"
   ]
  },
  {
   "cell_type": "markdown",
   "metadata": {},
   "source": [
    "### Set path"
   ]
  },
  {
   "cell_type": "code",
   "execution_count": 6,
   "metadata": {},
   "outputs": [],
   "source": [
    "train_path = set_path(processed_data_dir, 'ML-MATT-CompetitionQT1920_train_processed.parquet')\n",
    "test_path = set_path(processed_data_dir, 'ML-MATT-CompetitionQT1920_test_processed.parquet')"
   ]
  },
  {
   "cell_type": "markdown",
   "metadata": {},
   "source": [
    "### Load data"
   ]
  },
  {
   "cell_type": "code",
   "execution_count": 7,
   "metadata": {},
   "outputs": [],
   "source": [
    "train_df = spark.read.parquet(train_path)\n",
    "test_df = spark.read.parquet(test_path)"
   ]
  },
  {
   "cell_type": "code",
   "execution_count": 8,
   "metadata": {},
   "outputs": [
    {
     "name": "stdout",
     "output_type": "stream",
     "text": [
      "root\n",
      " |-- CellName: string (nullable = true)\n",
      " |-- hour: string (nullable = true)\n",
      " |-- minutes: string (nullable = true)\n",
      " |-- PRBUsageUL: double (nullable = true)\n",
      " |-- PRBUsageDL: double (nullable = true)\n",
      " |-- meanThr_DL: double (nullable = true)\n",
      " |-- meanThr_UL: double (nullable = true)\n",
      " |-- maxThr_DL: double (nullable = true)\n",
      " |-- maxThr_UL: double (nullable = true)\n",
      " |-- meanUE_DL: double (nullable = true)\n",
      " |-- meanUE_UL: double (nullable = true)\n",
      " |-- maxUE_DL: double (nullable = true)\n",
      " |-- maxUE_UL: double (nullable = true)\n",
      " |-- Unusual: integer (nullable = true)\n",
      "\n"
     ]
    }
   ],
   "source": [
    "train_df.printSchema()"
   ]
  },
  {
   "cell_type": "code",
   "execution_count": 9,
   "metadata": {},
   "outputs": [
    {
     "name": "stdout",
     "output_type": "stream",
     "text": [
      "+--------+----+-------+----------+----------+----------+----------+---------+---------+---------+---------+--------+--------+-------+\n",
      "|CellName|hour|minutes|PRBUsageUL|PRBUsageDL|meanThr_DL|meanThr_UL|maxThr_DL|maxThr_UL|meanUE_DL|meanUE_UL|maxUE_DL|maxUE_UL|Unusual|\n",
      "+--------+----+-------+----------+----------+----------+----------+---------+---------+---------+---------+--------+--------+-------+\n",
      "|   3BLTE|  10|     45|    11.642|     1.393|      0.37|     0.041|   15.655|    0.644|    1.114|    1.025|     4.0|     3.0|      1|\n",
      "|   1BLTE|  09|     45|    21.791|     1.891|     0.537|     0.268|   10.273|    1.154|    1.353|    1.085|     6.0|     4.0|      1|\n",
      "|   9BLTE|  07|     45|     0.498|     0.398|     0.015|      0.01|    0.262|    0.164|    0.995|    0.995|     1.0|     1.0|      1|\n",
      "|   4ALTE|  02|     45|     1.891|     1.095|      0.94|     0.024|   60.715|    0.825|    1.035|    0.995|     2.0|     2.0|      1|\n",
      "|  10BLTE|  03|     30|     0.303|     0.404|     0.016|     0.013|    0.348|    0.168|    1.011|    1.011|     2.0|     1.0|      0|\n",
      "+--------+----+-------+----------+----------+----------+----------+---------+---------+---------+---------+--------+--------+-------+\n",
      "only showing top 5 rows\n",
      "\n"
     ]
    }
   ],
   "source": [
    "train_df.show(5)"
   ]
  },
  {
   "cell_type": "markdown",
   "metadata": {},
   "source": [
    "# 2. Machine Learning Pipeline\n",
    "\n",
    "According to this scenario, our ML pipeline is composed by 4 stages:\n",
    "- stage 1: String Indexing the \"hour\" variable\n",
    "- stage 2: One Hot Encoding the indexed column of \"hour\" variable\n",
    "- stage 3: Vectorizing all the features for MinMax standardization\n",
    "- stage 4: Standardizing all variables\n",
    "- stage 5: Train a GBTClassifier model\n",
    "\n",
    "Let's build it!\n"
   ]
  },
  {
   "cell_type": "markdown",
   "metadata": {},
   "source": [
    "## Train"
   ]
  },
  {
   "cell_type": "code",
   "execution_count": 16,
   "metadata": {},
   "outputs": [],
   "source": [
    "stageOne = StringIndexer(inputCol='hour', \n",
    "                         outputCol='hour_index')\n",
    "\n",
    "stageTwo = OneHotEncoder(dropLast=False, \n",
    "                         inputCol=stageOne.getOutputCol(), outputCol='hour_vec')\n",
    "\n",
    "stageThree = VectorAssembler(\n",
    "    inputCols=['PRBUsageUL', 'PRBUsageDL', 'meanThr_DL',\n",
    "               'meanThr_UL', 'maxThr_DL', 'maxThr_UL', \n",
    "               'meanUE_DL', 'meanUE_UL', 'maxUE_DL','maxUE_UL', 'hour_vec'], \n",
    "    outputCol='vars_vectorized')\n",
    "\n",
    "stageFour = MinMaxScaler(inputCol=stageThree.getOutputCol(), \n",
    "                         outputCol='features')\n",
    "\n",
    "stageFive = GBTClassifier(featuresCol=stageFour.getOutputCol(), labelCol='Unusual', maxIter=3, seed=888)"
   ]
  },
  {
   "cell_type": "code",
   "execution_count": 17,
   "metadata": {},
   "outputs": [],
   "source": [
    "gbt_pipeline = Pipeline(stages=[stageOne, stageTwo, stageThree, stageFour, stageFive])"
   ]
  },
  {
   "cell_type": "code",
   "execution_count": 18,
   "metadata": {},
   "outputs": [],
   "source": [
    "gbt_model = gbt_pipeline.fit(train_df)"
   ]
  },
  {
   "cell_type": "code",
   "execution_count": 19,
   "metadata": {},
   "outputs": [],
   "source": [
    "predictions_train= gbt_model.transform(train_df)"
   ]
  },
  {
   "cell_type": "code",
   "execution_count": 21,
   "metadata": {},
   "outputs": [
    {
     "name": "stdout",
     "output_type": "stream",
     "text": [
      "+--------+--------------------+-------+--------------------+--------------------+----------+\n",
      "|CellName|            features|Unusual|       rawPrediction|         probability|prediction|\n",
      "+--------+--------------------+-------+--------------------+--------------------+----------+\n",
      "|   3BLTE|(34,[0,1,2,3,4,5,...|      1|[0.51677462414346...|[0.73760341280871...|       0.0|\n",
      "|   1BLTE|(34,[0,1,2,3,4,5,...|      1|[0.79496718396118...|[0.83060686889221...|       0.0|\n",
      "|   9BLTE|(34,[0,1,2,3,4,5,...|      1|[-1.0915005269131...|[0.10128742007114...|       1.0|\n",
      "|   4ALTE|(34,[0,1,2,3,4,5,...|      1|[-0.9762705534631...|[0.12427654059452...|       1.0|\n",
      "|  10BLTE|(34,[0,1,2,3,4,5,...|      0|[1.09150052691311...|[0.89871257992884...|       0.0|\n",
      "+--------+--------------------+-------+--------------------+--------------------+----------+\n",
      "only showing top 5 rows\n",
      "\n"
     ]
    }
   ],
   "source": [
    "predictions_train.select('CellName', 'features', 'Unusual', 'rawPrediction', 'probability', 'prediction').show(5)"
   ]
  },
  {
   "cell_type": "markdown",
   "metadata": {},
   "source": [
    "## Test"
   ]
  },
  {
   "cell_type": "code",
   "execution_count": 23,
   "metadata": {},
   "outputs": [
    {
     "name": "stdout",
     "output_type": "stream",
     "text": [
      "+--------+--------------------+--------------------+--------------------+----------+\n",
      "|CellName|            features|       rawPrediction|         probability|prediction|\n",
      "+--------+--------------------+--------------------+--------------------+----------+\n",
      "|   6ALTE|(34,[0,1,2,3,4,5,...|[-0.0619848391774...|[0.46904721170647...|       1.0|\n",
      "|   6ULTE|(34,[0,1,2,3,4,5,...|[0.90087721285987...|[0.85836236602181...|       0.0|\n",
      "|   2ALTE|(34,[0,1,2,3,4,5,...|[0.92592783763985...|[0.86434483333830...|       0.0|\n",
      "|   3CLTE|(34,[0,1,2,3,4,5,...|[1.10984499743149...|[0.90200379684945...|       0.0|\n",
      "|   6CLTE|(34,[0,1,2,3,4,5,...|[-0.2149457119780...|[0.39415225882297...|       1.0|\n",
      "+--------+--------------------+--------------------+--------------------+----------+\n",
      "only showing top 5 rows\n",
      "\n"
     ]
    }
   ],
   "source": [
    "predictions_test= gbt_model.transform(test_df)\n",
    "predictions_test.select('CellName', 'features', 'rawPrediction', 'probability', 'prediction').show(5)"
   ]
  },
  {
   "cell_type": "markdown",
   "metadata": {},
   "source": [
    "## Serialize the pipeline"
   ]
  },
  {
   "cell_type": "code",
   "execution_count": 28,
   "metadata": {},
   "outputs": [],
   "source": [
    "gbt_pipeline.write().overwrite().save(path=deliverables_path)"
   ]
  },
  {
   "cell_type": "markdown",
   "metadata": {},
   "source": [
    "# Conclusion"
   ]
  },
  {
   "cell_type": "markdown",
   "metadata": {},
   "source": [
    "We get our Pipeline. Let's version it in SAS Model Manager"
   ]
  }
 ],
 "metadata": {
  "kernelspec": {
   "display_name": "Python 3",
   "language": "python",
   "name": "python3"
  },
  "language_info": {
   "codemirror_mode": {
    "name": "ipython",
    "version": 3
   },
   "file_extension": ".py",
   "mimetype": "text/x-python",
   "name": "python",
   "nbconvert_exporter": "python",
   "pygments_lexer": "ipython3",
   "version": "3.8.6"
  },
  "latex_envs": {
   "LaTeX_envs_menu_present": true,
   "autoclose": false,
   "autocomplete": true,
   "bibliofile": "biblio.bib",
   "cite_by": "apalike",
   "current_citInitial": 1,
   "eqLabelWithNumbers": true,
   "eqNumInitial": 1,
   "hotkeys": {
    "equation": "Ctrl-E",
    "itemize": "Ctrl-I"
   },
   "labels_anchors": false,
   "latex_user_defs": false,
   "report_style_numbering": false,
   "user_envs_cfg": false
  },
  "toc": {
   "base_numbering": 1,
   "nav_menu": {},
   "number_sections": true,
   "sideBar": true,
   "skip_h1_title": false,
   "title_cell": "Table of Contents",
   "title_sidebar": "Contents",
   "toc_cell": false,
   "toc_position": {},
   "toc_section_display": true,
   "toc_window_display": true
  },
  "varInspector": {
   "cols": {
    "lenName": 16,
    "lenType": 16,
    "lenVar": 40
   },
   "kernels_config": {
    "python": {
     "delete_cmd_postfix": "",
     "delete_cmd_prefix": "del ",
     "library": "var_list.py",
     "varRefreshCmd": "print(var_dic_list())"
    },
    "r": {
     "delete_cmd_postfix": ") ",
     "delete_cmd_prefix": "rm(",
     "library": "var_list.r",
     "varRefreshCmd": "cat(var_dic_list()) "
    }
   },
   "types_to_exclude": [
    "module",
    "function",
    "builtin_function_or_method",
    "instance",
    "_Feature"
   ],
   "window_display": false
  }
 },
 "nbformat": 4,
 "nbformat_minor": 4
}
