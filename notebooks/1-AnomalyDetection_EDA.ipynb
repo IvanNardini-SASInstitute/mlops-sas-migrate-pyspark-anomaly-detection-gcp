{
 "cells": [
  {
   "cell_type": "markdown",
   "metadata": {},
   "source": [
    "#  Anomaly detection in cellular networks"
   ]
  },
  {
   "cell_type": "markdown",
   "metadata": {},
   "source": [
    "## 1. Introduction\n",
    "\n",
    "The purpose of this notebook is to solve a anomaly detection problem proposed as a competition in the Kaggle InClass platform.\n",
    "\n",
    "## 2. Problem description\n",
    "\n",
    "### Context:\n",
    "\n",
    "Traditionally, the design of a cellular network focuses on the optimization of energy and resources that guarantees a smooth operation even during peak hours (i.e. periods with higher traffic load). \n",
    "However, this implies that cells are most of the time overprovisioned of radio resources. \n",
    "Next generation cellular networks ask for a dynamic management and configuration in order to adapt to the varying user demands in the most efficient way with regards to energy savings and utilization of frequency resources. \n",
    "If the network operator were capable of anticipating to those variations in the users’ traffic demands, a more efficient management of the scarce (and expensive) network resources would be possible.\n",
    "Current research in mobile networks looks upon Machine Learning (ML) techniques to help manage those resources. \n",
    "In this case, you will explore the possibilities of ML to detect abnormal behaviors in the utilization of the network that would motivate a change in the configuration of the base station.\n"
   ]
  },
  {
   "cell_type": "markdown",
   "metadata": {},
   "source": [
    "### Objective\n",
    "\n",
    "The objective of the network optimization team is to analyze traces of past activity, which will be used to train an ML system capable of classifying samples of current activity as:\n",
    " - 0 (normal): current activity corresponds to normal behavior of any working day and. Therefore, no re-configuration or redistribution of resources is needed.\n",
    " - 1 (unusual): current activity slightly differs from the behavior usually observed for that time of the day (e.g. due to a strike, demonstration, sports event, etc.), which should trigger a reconfiguration of the base station."
   ]
  },
  {
   "cell_type": "markdown",
   "metadata": {},
   "source": [
    "### Dataset\n",
    "\n",
    "The dataset has been obtained from a real LTE deployment. During two weeks, different metrics were gathered from a set of 10 base stations, each having a different number of cells, every 15 minutes. \n",
    "\n",
    "The dataset is provided in the form of a csv file, where each row corresponds to a sample obtained from one particular cell at a certain time. Each data example contains the following features:\n",
    "\n",
    " - Time : hour of the day (in the format hh:mm) when the sample was generated.\n",
    " - CellName1: text string used to uniquely identify the cell that generated the current sample. CellName is in the form xαLTE, where x identifies the base station, and α the cell within that base station (see the example in the right figure).\n",
    " - PRBUsageUL and PRBUsageDL: level of resource utilization in that cell measured as the portion of Physical Radio Blocks (PRB) that were in use (%) in the previous 15 minutes. Uplink (UL) and downlink (DL) are measured separately.\n",
    " - meanThrDL and meanThrUL: average carried traffic (in Mbps) during the past 15 minutes. Uplink (UL) and downlink (DL) are measured separately.\n",
    " - maxThrDL and maxThrUL: maximum carried traffic (in Mbps) measured in the last 15 minutes. Uplink (UL) and downlink (DL) are measured separately.\n",
    " - meanUEDL and meanUEUL: average number of user equipment (UE) devices that were simultaneously active during the last 15 minutes. Uplink (UL) and downlink (DL) are measured separately.\n",
    " - maxUEDL and maxUEUL: maximum number of user equipment (UE) devices that were simultaneously active during the last 15 minutes. Uplink (UL) and downlink (DL) are measured separately.\n",
    " - maxUE_UL+DL: maximum number of user equipment (UE) devices that were active simultaneously in the last 15 minutes, regardless of UL and DL.\n",
    " - Unusual: labels for supervised learning. A value of 0 determines that the sample corresponds to normal operation, a value of 1 identifies unusual behavior."
   ]
  },
  {
   "cell_type": "markdown",
   "metadata": {},
   "source": [
    "## Libraries"
   ]
  },
  {
   "cell_type": "code",
   "execution_count": null,
   "metadata": {},
   "outputs": [],
   "source": [
    "import os\n",
    "import sys\n",
    "import random\n",
    "import getpass\n",
    "from zipfile import ZipFile\n",
    "from IPython.display import Image\n",
    "\n",
    "#Data\n",
    "import kaggle\n",
    "import pandas as pd\n",
    "\n",
    "#Analysis\n",
    "import pyspark\n",
    "try:\n",
    "    from pyspark import SparkContext, SparkConf\n",
    "    from pyspark.sql import SparkSession\n",
    "except ImportError as e:\n",
    "    print('WARN: Something wrong with pyspark library. Please check configuration settings!')\n",
    "from pyspark.sql.types import StructType, DoubleType, IntegerType, StringType, TimestampType\n",
    "from pyspark.sql.functions import col, lit, concat, split, when, udf, regexp_replace\n",
    "\n",
    "#EDA\n",
    "import swat\n",
    "\n",
    "# Reloads functions each time so you can edit a script and not need to restart the kernel\n",
    "%load_ext autoreload\n",
    "%autoreload 2"
   ]
  },
  {
   "cell_type": "markdown",
   "metadata": {},
   "source": [
    "## Helpers"
   ]
  },
  {
   "cell_type": "code",
   "execution_count": null,
   "metadata": {
    "ExecuteTime": {
     "end_time": "2019-02-22T23:24:55.390680Z",
     "start_time": "2019-02-22T23:24:55.344380Z"
    }
   },
   "outputs": [],
   "source": [
    "def get_root_dir (src: str, max_nest: int) -> str:\n",
    "    '''\n",
    "    Specify paths and appending directories\n",
    "    with relevant python source code.\n",
    "    :param src: the path of the source\n",
    "    :param max_nest: number of levels to search for the src\n",
    "    :return: root_dir path of the root\n",
    "    '''\n",
    "    root_dir = os.curdir\n",
    "    nest = 0\n",
    "    while src not in os.listdir(root_dir) and nest < max_nest:\n",
    "        root_dir = os.path.join(os.pardir, root_dir)  # Look up the directory structure for a src directory\n",
    "        nest += 1\n",
    "    # If you don't find the src directory, the root directory is this directory\n",
    "    root_dir = os.path.abspath(root_dir) if nest < max_nest else os.path.abspath(\n",
    "        os.curdir)\n",
    "    return root_dir\n",
    "\n",
    "def set_src (root_dir: str, src: str) -> str:\n",
    "    '''\n",
    "     Get the source directory and append\n",
    "     path to access python packages/scripts within directory\n",
    "    :param root_dir: root path\n",
    "    :param src: src path\n",
    "    :return: last system path record (to check)\n",
    "    '''\n",
    "    if src in os.listdir(root_dir):\n",
    "        src_dir = os.path.join(root_dir, src)\n",
    "        sys.path.append(src_dir)\n",
    "    return sys.path[-1]\n",
    "\n",
    "\n",
    "def set_folder (root_dir: str, folder: str) -> str:\n",
    "    '''\n",
    "    Set the folder path based on the folder name\n",
    "    :param root_dir: root path\n",
    "    :param folder: folder name\n",
    "    :return: folder_path from root\n",
    "    '''\n",
    "    folder_path = os.path.join(\n",
    "        root_dir, folder) if folder in os.listdir(root_dir) else os.curdir\n",
    "    return folder_path\n",
    "\n",
    "def set_path(path:str, dirname:str) -> str:\n",
    "    '''\n",
    "    Set the entire path given a directory name\n",
    "    :param path: \n",
    "    :param dirname: \n",
    "    :return: new path\n",
    "    '''\n",
    "    return os.path.join(path, dirname)\n",
    "\n",
    "\n",
    "def unzip (inpath: str, outpath: str) -> None:\n",
    "    '''\n",
    "    unzip a compressed file\n",
    "    :param inpath: path of zip\n",
    "    :param outpath: path to unzip\n",
    "    :return: None\n",
    "    '''\n",
    "    zf = ZipFile(inpath, 'r')\n",
    "    zf.extractall(outpath)\n",
    "    zf.close()"
   ]
  },
  {
   "cell_type": "markdown",
   "metadata": {},
   "source": [
    "## Setup"
   ]
  },
  {
   "cell_type": "code",
   "execution_count": null,
   "metadata": {},
   "outputs": [],
   "source": [
    "# Folders\n",
    "root_dir = get_root_dir('src', 5)\n",
    "src_dir = set_src(root_dir, 'src')\n",
    "data_dir = set_folder(root_dir, 'data')\n",
    "raw_data_dir = set_path(data_dir, 'raw')\n",
    "processed_data_dir = set_path(data_dir, 'processed')\n",
    "figures_dir = set_folder(root_dir, 'figures')\n",
    "models_dir = set_folder(root_dir, 'models')\n",
    "\n",
    "#Variables\n",
    "# cashost =''\n",
    "# casport = '5570'\n",
    "# print('Provide username and password to Viya Server login')\n",
    "# casuser = input(\"\")\n",
    "# password = getpass.getpass()\n",
    "# caslib='casuser'"
   ]
  },
  {
   "cell_type": "code",
   "execution_count": null,
   "metadata": {},
   "outputs": [],
   "source": [
    "# To convert to html with collapsible headings and table of contents\n",
    "# change filename and run cell\n",
    "# filename = \"template.ipynb\"\n",
    "# ! jupyter nbconvert --to html_ch {filename} --template toc2"
   ]
  },
  {
   "cell_type": "markdown",
   "metadata": {},
   "source": [
    "# 1. Data"
   ]
  },
  {
   "cell_type": "markdown",
   "metadata": {},
   "source": [
    "## Download from Kaggle"
   ]
  },
  {
   "cell_type": "code",
   "execution_count": null,
   "metadata": {},
   "outputs": [],
   "source": [
    "!kaggle competitions download -c anomaly-detection-in-cellular-networks -p ../../data/raw/ --force"
   ]
  },
  {
   "cell_type": "code",
   "execution_count": null,
   "metadata": {},
   "outputs": [],
   "source": [
    "unzip('../../data/raw/anomaly-detection-in-cellular-networks.zip', raw_data_dir)"
   ]
  },
  {
   "cell_type": "code",
   "execution_count": null,
   "metadata": {},
   "outputs": [],
   "source": [
    "train_path = set_path(raw_data_dir, 'ML-MATT-CompetitionQT1920_train.csv')\n",
    "val_path = set_path(raw_data_dir, 'ML-MATT-CompetitionQT1920_test.csv')\n",
    "train_data = pd.read_csv(train_path, header=0, sep=',', engine='python') #because UnicodeDecodeError with c engine"
   ]
  },
  {
   "cell_type": "markdown",
   "metadata": {},
   "source": [
    "## Inspect data"
   ]
  },
  {
   "cell_type": "code",
   "execution_count": null,
   "metadata": {},
   "outputs": [],
   "source": [
    "train_data.head()"
   ]
  },
  {
   "cell_type": "code",
   "execution_count": null,
   "metadata": {},
   "outputs": [],
   "source": [
    "train_data.columns"
   ]
  },
  {
   "cell_type": "code",
   "execution_count": null,
   "metadata": {},
   "outputs": [],
   "source": [
    "train_data.info()"
   ]
  },
  {
   "cell_type": "code",
   "execution_count": null,
   "metadata": {},
   "outputs": [],
   "source": [
    "print('The distribution of target variable')\n",
    "round((train_data['Unusual'].value_counts()/train_data.shape[0])*100, 3)"
   ]
  },
  {
   "cell_type": "markdown",
   "metadata": {},
   "source": [
    "### Comment\n",
    "\n",
    "The sample is umbalanced. We have some missing. All variables are continuous. We need hour for time variable. And we may consider change maxUE_UL+DL labels"
   ]
  },
  {
   "cell_type": "markdown",
   "metadata": {},
   "source": [
    "# 2. ETL"
   ]
  },
  {
   "cell_type": "markdown",
   "metadata": {},
   "source": [
    "## Initiate Spark session"
   ]
  },
  {
   "cell_type": "code",
   "execution_count": null,
   "metadata": {},
   "outputs": [],
   "source": [
    "#If not exists create a spark session named Anomaly Detection where the master node is local\n",
    "spark = SparkSession.builder \\\n",
    "    .master(\"local[*]\") \\\n",
    "    .appName(\"Anomaly Detection\") \\\n",
    "    .getOrCreate()"
   ]
  },
  {
   "cell_type": "code",
   "execution_count": null,
   "metadata": {},
   "outputs": [],
   "source": [
    "spark.getActiveSession()"
   ]
  },
  {
   "cell_type": "markdown",
   "metadata": {},
   "source": [
    "## Extract"
   ]
  },
  {
   "cell_type": "markdown",
   "metadata": {},
   "source": [
    "### Define schema and read data\n"
   ]
  },
  {
   "cell_type": "code",
   "execution_count": null,
   "metadata": {},
   "outputs": [],
   "source": [
    "schema_train = StructType() \\\n",
    "    .add(\"Time\", StringType(), True) \\\n",
    "    .add(\"CellName\", StringType(), True) \\\n",
    "    .add(\"PRBUsageUL\", DoubleType(), True) \\\n",
    "    .add(\"PRBUsageDL\", DoubleType(), True) \\\n",
    "    .add(\"meanThr_DL\", DoubleType(), True) \\\n",
    "    .add(\"meanThr_UL\", DoubleType(), True) \\\n",
    "    .add(\"maxThr_DL\", DoubleType(), True) \\\n",
    "    .add(\"maxThr_UL\", DoubleType(), True) \\\n",
    "    .add(\"meanUE_DL\", DoubleType(), True) \\\n",
    "    .add(\"meanUE_UL\", DoubleType(), True) \\\n",
    "    .add(\"maxUE_DL\", DoubleType(), True) \\\n",
    "    .add(\"maxUE_UL\", DoubleType(), True) \\\n",
    "    .add(\"maxUE_UL+DL\", IntegerType(), True) \\\n",
    "    .add(\"Unusual\", IntegerType(), True)\n",
    "\n",
    "train_df = spark.read.option(\"header\", True) \\\n",
    "                .option(\"delimiter\", ',') \\\n",
    "                .schema(schema_train) \\\n",
    "                .csv(train_path)"
   ]
  },
  {
   "cell_type": "code",
   "execution_count": null,
   "metadata": {},
   "outputs": [],
   "source": [
    "schema_val = StructType() \\\n",
    "    .add(\"Time\", StringType(), True) \\\n",
    "    .add(\"CellName\", StringType(), True) \\\n",
    "    .add(\"PRBUsageUL\", DoubleType(), True) \\\n",
    "    .add(\"PRBUsageDL\", DoubleType(), True) \\\n",
    "    .add(\"meanThr_DL\", DoubleType(), True) \\\n",
    "    .add(\"meanThr_UL\", DoubleType(), True) \\\n",
    "    .add(\"maxThr_DL\", DoubleType(), True) \\\n",
    "    .add(\"maxThr_UL\", DoubleType(), True) \\\n",
    "    .add(\"meanUE_DL\", DoubleType(), True) \\\n",
    "    .add(\"meanUE_UL\", DoubleType(), True) \\\n",
    "    .add(\"maxUE_DL\", DoubleType(), True) \\\n",
    "    .add(\"maxUE_UL\", DoubleType(), True) \\\n",
    "    .add(\"maxUE_UL+DL\", IntegerType(), True) \n",
    "\n",
    "val_df = spark.read.option(\"header\", True) \\\n",
    "                .option(\"delimiter\", ',') \\\n",
    "                .schema(schema_val) \\\n",
    "                .csv(val_path)"
   ]
  },
  {
   "cell_type": "code",
   "execution_count": null,
   "metadata": {},
   "outputs": [],
   "source": [
    "train_df.printSchema()"
   ]
  },
  {
   "cell_type": "code",
   "execution_count": null,
   "metadata": {},
   "outputs": [],
   "source": [
    "train_df.show(5)"
   ]
  },
  {
   "cell_type": "markdown",
   "metadata": {},
   "source": [
    "## Transform\n",
    "\n",
    "Because we have:\n",
    "\n",
    " - a particular time format (hh:mm)\n",
    " - a composed cell identifier (xαLTE)\n",
    " - a messy name (maxUE_UL+DL)\n",
    " - missing values\n",
    " - unbalanced sample\n",
    " \n",
    "we need to implement some transformations:\n",
    "\n",
    " - we have to format the column e.g HH:mm\n",
    " - I would leave the cell indentifier because we want to optimize for cell\n",
    " - rename maxUE_UL+DL in maxUE_UL_DL\n",
    " - we could consider drop missings for simplicity\n",
    " - we may assign weights for each class to penalize the majority class (experiment)\n"
   ]
  },
  {
   "cell_type": "code",
   "execution_count": null,
   "metadata": {},
   "outputs": [],
   "source": [
    "flt = \"\"\"\n",
    "PRBUsageUL IS NOT NULL\n",
    "and PRBUsageDL IS NOT NULL\n",
    "and meanThr_DL IS NOT NULL\n",
    "and meanThr_UL IS NOT NULL\n",
    "and maxThr_DL IS NOT NULL\n",
    "and maxThr_UL IS NOT NULL\n",
    "and meanUE_DL IS NOT NULL\n",
    "and meanUE_UL IS NOT NULL\n",
    "and maxUE_DL IS NOT NULL\n",
    "and maxUE_UL IS NOT NULL\n",
    "and maxUE_UL_DL IS NOT NULL\n",
    "and Unusual IS NOT NULL\n",
    "\"\"\"\n",
    "\n",
    "item = split(col('hour_enc'), ':').getItem(0)\n",
    "cond = (item == '0') | (item == '1') | (item == '2') | (item == '3') | (item == '4') | (item == '5') | (item == '6') | (item == '7') | (item == '8') | (item == '9')\n",
    "\n",
    "# Recipe #\n",
    "# Concat :00 to Time\n",
    "# Concat 0 to 0, 1, ... , 9\n",
    "# Extract hour\n",
    "# Extract minutes\n",
    "# Rename \"maxUE_UL+DL\" in \"maxUE_UL_DL\"\n",
    "# Filter for missing\n",
    "# Reorder columns\n",
    "\n",
    "train_df = train_df.withColumn('hour_enc', concat(col('Time'), lit(\":00\"))) \\\n",
    "                   .withColumn('timestamp', when(cond, concat(lit(\"0\"), col('hour_enc'))).otherwise(col('hour_enc'))) \\\n",
    "                   .withColumn('timestamp_raw', regexp_replace(col('timestamp'), \"\\\\:\", \"\")) \\\n",
    "                   .withColumn('hour', split(col('timestamp'), ':').getItem(0)) \\\n",
    "                   .withColumn('minutes', split(col('timestamp'), ':').getItem(1)) \\\n",
    "                   .withColumnRenamed(\"maxUE_UL+DL\",\"maxUE_UL_DL\") \\\n",
    "                   .filter(flt) \\\n",
    "                   .select('CellName', 'timestamp_raw', 'timestamp', 'hour', 'minutes', 'PRBUsageUL', 'PRBUsageDL', \n",
    "                           'meanThr_DL', 'meanThr_UL', 'maxThr_DL', 'maxThr_UL', \n",
    "                           'meanUE_DL', 'meanUE_UL', 'maxUE_DL', 'maxUE_UL', 'maxUE_UL_DL', \n",
    "                           'Unusual')\n",
    "\n",
    "\n",
    "\n",
    "train_df.show(5)\n",
    "print(f\"The new number of rown is {train_df.count()}\")"
   ]
  },
  {
   "cell_type": "code",
   "execution_count": null,
   "metadata": {},
   "outputs": [],
   "source": [
    "flt = \"\"\"\n",
    "PRBUsageUL IS NOT NULL\n",
    "and PRBUsageDL IS NOT NULL\n",
    "and meanThr_DL IS NOT NULL\n",
    "and meanThr_UL IS NOT NULL\n",
    "and maxThr_DL IS NOT NULL\n",
    "and maxThr_UL IS NOT NULL\n",
    "and meanUE_DL IS NOT NULL\n",
    "and meanUE_UL IS NOT NULL\n",
    "and maxUE_DL IS NOT NULL\n",
    "and maxUE_UL IS NOT NULL\n",
    "and maxUE_UL_DL IS NOT NULL\n",
    "\"\"\"\n",
    "\n",
    "item = split(col('hour_enc'), ':').getItem(0)\n",
    "cond = (item == '0') | (item == '1') | (item == '2') | (item == '3') | (item == '4') | (item == '5') | (item == '6') | (item == '7') | (item == '8') | (item == '9')\n",
    "\n",
    "val_df = val_df.withColumn('hour_enc', concat(col('Time'), lit(\":00\"))) \\\n",
    "                   .withColumn('timestamp', when(cond, concat(lit(\"0\"), col('hour_enc'))).otherwise(col('hour_enc'))) \\\n",
    "                   .withColumn('timestamp_raw', regexp_replace(col('timestamp'), \"\\\\:\", \"\")) \\\n",
    "                   .withColumn('hour', split(col('timestamp'), ':').getItem(0)) \\\n",
    "                   .withColumn('minutes', split(col('timestamp'), ':').getItem(1)) \\\n",
    "                   .withColumnRenamed(\"maxUE_UL+DL\",\"maxUE_UL_DL\") \\\n",
    "                   .filter(flt) \\\n",
    "                   .select('CellName', 'timestamp_raw', 'timestamp', 'hour', 'minutes', 'PRBUsageUL', 'PRBUsageDL', \n",
    "                           'meanThr_DL', 'meanThr_UL', 'maxThr_DL', 'maxThr_UL', \n",
    "                           'meanUE_DL', 'meanUE_UL', 'maxUE_DL', 'maxUE_UL', 'maxUE_UL_DL')\n",
    "\n",
    "val_df.show(5)\n",
    "print(f\"The new number of rown is {val_df.count()}\")"
   ]
  },
  {
   "cell_type": "markdown",
   "metadata": {},
   "source": [
    "## Load in SAS Viya for Exploration\n",
    "\n",
    "I don't have a load actually. But I can store it in csv file for now."
   ]
  },
  {
   "cell_type": "code",
   "execution_count": null,
   "metadata": {},
   "outputs": [],
   "source": [
    "# conn = swat.CAS(cashost, casport, casuser, password)"
   ]
  },
  {
   "cell_type": "markdown",
   "metadata": {},
   "source": [
    "# 2. Analysis\n",
    "\n"
   ]
  },
  {
   "cell_type": "markdown",
   "metadata": {},
   "source": [
    "Based on the context, I expect:\n",
    " - different trends in level of resource utilization when we have anomalies. Both in download and in upload\n",
    " - different trends in traffic. Both in download and in upload\n",
    " - different trends in usage. Both in download and in upload\n",
    "    "
   ]
  },
  {
   "cell_type": "code",
   "execution_count": null,
   "metadata": {},
   "outputs": [],
   "source": [
    "## Check how import VA report in Jupyter notebook\n",
    "# %%html\n",
    "# <iframe src=\"http://viyalab/reportImages/directImage?reportUri=%2Freports%2Freports%2Ff72f28f9-a6ec-4a6b-a89e-b2802673d644&size=1200x1000&layoutType=entireSection&sectionIndex=0\"></iframe>"
   ]
  },
  {
   "cell_type": "code",
   "execution_count": null,
   "metadata": {},
   "outputs": [],
   "source": [
    "Image(filename = figures_dir + '\\\\1_PRB_UL_Hour_Cell.JPG')"
   ]
  },
  {
   "cell_type": "code",
   "execution_count": null,
   "metadata": {},
   "outputs": [],
   "source": [
    "Image(filename = figures_dir + '\\\\2_PRB_DL_Hour_Cell.JPG')"
   ]
  },
  {
   "cell_type": "code",
   "execution_count": null,
   "metadata": {},
   "outputs": [],
   "source": [
    "Image(filename = figures_dir + '\\\\3_mean_max_DL_UL_Usage_0_1.JPG')"
   ]
  },
  {
   "cell_type": "code",
   "execution_count": null,
   "metadata": {},
   "outputs": [],
   "source": [
    "Image(filename = figures_dir + '\\\\4_mean_max_DL_UL_Thr_0_1.JPG')"
   ]
  },
  {
   "cell_type": "markdown",
   "metadata": {},
   "source": [
    "# 3. Store the data"
   ]
  },
  {
   "cell_type": "code",
   "execution_count": null,
   "metadata": {},
   "outputs": [],
   "source": [
    "train, test = train_df.randomSplit([0.9, 0.1], seed=666)"
   ]
  },
  {
   "cell_type": "code",
   "execution_count": null,
   "metadata": {},
   "outputs": [],
   "source": [
    "processed_train_path = set_path(processed_data_dir, 'ML-MATT-CompetitionQT1920_train_processed.parquet')\n",
    "processed_test_path = set_path(processed_data_dir, 'ML-MATT-CompetitionQT1920_test_processed.parquet')\n",
    "processed_val_path = set_path(processed_data_dir, 'ML-MATT-CompetitionQT1920_val_processed.parquet')\n",
    "train.drop(\"timestamp_raw\", \"timestamp\", \"maxUE_UL_DL\").write.mode('overwrite').save(processed_train_path)\n",
    "test.drop(\"timestamp_raw\", \"timestamp\", \"maxUE_UL_DL\").write.mode('overwrite').save(processed_test_path)\n",
    "val_df.drop(\"timestamp_raw\", \"timestamp\", \"maxUE_UL_DL\").write.mode('overwrite').save(processed_val_path)"
   ]
  },
  {
   "cell_type": "markdown",
   "metadata": {},
   "source": [
    "# Conclusions"
   ]
  },
  {
   "cell_type": "markdown",
   "metadata": {},
   "source": [
    "## Key findings \n",
    "1. Different trends in level of resource utilization when we have anomalies. Both in download and in upload\n",
    "2. Different trends in traffic. Both in download and in upload\n",
    "3. Different trends in usage. Both in download and in upload\n",
    "\n",
    "## Next steps\n",
    "Let's engineering variables..."
   ]
  }
 ],
 "metadata": {
  "kernelspec": {
   "display_name": "Python 3",
   "language": "python",
   "name": "python3"
  },
  "language_info": {
   "codemirror_mode": {
    "name": "ipython",
    "version": 3
   },
   "file_extension": ".py",
   "mimetype": "text/x-python",
   "name": "python",
   "nbconvert_exporter": "python",
   "pygments_lexer": "ipython3",
   "version": "3.8.6"
  },
  "latex_envs": {
   "LaTeX_envs_menu_present": true,
   "autoclose": false,
   "autocomplete": true,
   "bibliofile": "biblio.bib",
   "cite_by": "apalike",
   "current_citInitial": 1,
   "eqLabelWithNumbers": true,
   "eqNumInitial": 1,
   "hotkeys": {
    "equation": "Ctrl-E",
    "itemize": "Ctrl-I"
   },
   "labels_anchors": false,
   "latex_user_defs": false,
   "report_style_numbering": false,
   "user_envs_cfg": false
  },
  "toc": {
   "base_numbering": 1,
   "nav_menu": {},
   "number_sections": true,
   "sideBar": true,
   "skip_h1_title": false,
   "title_cell": "Table of Contents",
   "title_sidebar": "Contents",
   "toc_cell": false,
   "toc_position": {},
   "toc_section_display": true,
   "toc_window_display": true
  },
  "varInspector": {
   "cols": {
    "lenName": 16,
    "lenType": 16,
    "lenVar": 40
   },
   "kernels_config": {
    "python": {
     "delete_cmd_postfix": "",
     "delete_cmd_prefix": "del ",
     "library": "var_list.py",
     "varRefreshCmd": "print(var_dic_list())"
    },
    "r": {
     "delete_cmd_postfix": ") ",
     "delete_cmd_prefix": "rm(",
     "library": "var_list.r",
     "varRefreshCmd": "cat(var_dic_list()) "
    }
   },
   "types_to_exclude": [
    "module",
    "function",
    "builtin_function_or_method",
    "instance",
    "_Feature"
   ],
   "window_display": false
  }
 },
 "nbformat": 4,
 "nbformat_minor": 4
}
